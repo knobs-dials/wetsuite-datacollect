{
 "cells": [
  {
   "attachments": {},
   "cell_type": "markdown",
   "metadata": {},
   "source": [
    "# Purpose of this notebook\n",
    "\n",
    "Show how we fetch data from the BWB repository to be used to create our corresponding datasets\n",
    "\n",
    "TODO: finish, this is a copy-paste from a script"
   ]
  },
  {
   "cell_type": "markdown",
   "metadata": {},
   "source": [
    "## Fetching"
   ]
  },
  {
   "cell_type": "code",
   "execution_count": 1,
   "metadata": {},
   "outputs": [],
   "source": [
    "import re\n",
    "import collections\n",
    "import datetime\n",
    "import pprint\n",
    "import random\n",
    "\n",
    "import wetsuite.helpers.etree\n",
    "import wetsuite.helpers.notebook\n",
    "import wetsuite.helpers.date\n",
    "import wetsuite.helpers.localdata\n",
    "import wetsuite.helpers.koop_parse\n",
    "import wetsuite.datacollect.koop_repositories \n",
    "import wetsuite.datasets"
   ]
  },
  {
   "cell_type": "code",
   "execution_count": 2,
   "metadata": {},
   "outputs": [],
   "source": [
    "# contains toestand, manifest, and wti downloads\n",
    "bwb_fetched = wetsuite.helpers.localdata.LocalKV( 'bwb_fetched.db', str, bytes )"
   ]
  },
  {
   "cell_type": "code",
   "execution_count": 3,
   "metadata": {},
   "outputs": [
    {
     "name": "stdout",
     "output_type": "stream",
     "text": [
      "[SRU searchRetrieve] fetching 'http://zoekservice.overheid.nl/sru/Search?&version=1.2&x-connection=BWB&operation=searchRetrieve&startRecord=1&maximumRecords=500&query=dcterms.modified%20%3E%3D%202024-01-12'\n",
      "[SRU searchRetrieve] fetching 'http://zoekservice.overheid.nl/sru/Search?&version=1.2&x-connection=BWB&operation=searchRetrieve&startRecord=501&maximumRecords=500&query=dcterms.modified%20%3E%3D%202024-01-12'\n",
      "[SRU searchRetrieve] fetching 'http://zoekservice.overheid.nl/sru/Search?&version=1.2&x-connection=BWB&operation=searchRetrieve&startRecord=1001&maximumRecords=500&query=dcterms.modified%20%3E%3D%202024-01-12'\n",
      "[SRU searchRetrieve] fetching 'http://zoekservice.overheid.nl/sru/Search?&version=1.2&x-connection=BWB&operation=searchRetrieve&startRecord=1501&maximumRecords=500&query=dcterms.modified%20%3E%3D%202024-01-12'\n",
      "[SRU searchRetrieve] fetching 'http://zoekservice.overheid.nl/sru/Search?&version=1.2&x-connection=BWB&operation=searchRetrieve&startRecord=2001&maximumRecords=500&query=dcterms.modified%20%3E%3D%202024-01-12'\n",
      "[SRU searchRetrieve] fetching 'http://zoekservice.overheid.nl/sru/Search?&version=1.2&x-connection=BWB&operation=searchRetrieve&startRecord=2501&maximumRecords=500&query=dcterms.modified%20%3E%3D%202024-01-12'\n",
      "FETCHED new data for BWBR0010269 - {'identifier': 'BWBR0010269', 'title': 'Warenwetregeling Verontreinigingen in levensmiddelen', 'type': 'ministeriele-regeling', 'language': 'nl', 'authority': 'Volksgezondheid, Welzijn en Sport', 'creator': 'Ministerie van Binnenlandse Zaken en Koninkrijksrelaties', 'modified': '2024-02-09', 'created': '2024-02-09', 'toestand': 'http://wetten.overheid.nl/id/BWBR0010269/2024-02-07/0', 'rechtsgebied': 'Levensmiddelenrecht', 'overheidsdomein': 'Landbouw, natuur en voedsel', 'geldigheidsperiode_startdatum': '2024-02-07', 'geldigheidsperiode_einddatum': '9999-12-31', 'zichtperiode_startdatum': '2024-02-07', 'zichtperiode_einddatum': '9999-12-31', 'locatie_toestand': 'https://repository.officiele-overheidspublicaties.nl/bwb/BWBR0010269/2024-02-07_0/xml/BWBR0010269_2024-02-07_0.xml', 'locatie_wti': 'https://repository.officiele-overheidspublicaties.nl/bwb/BWBR0010269/BWBR0010269.WTI', 'locatie_manifest': 'https://repository.officiele-overheidspublicaties.nl/bwb/BWBR0010269/manifest.xml'}\n",
      "[SRU searchRetrieve] fetching 'http://zoekservice.overheid.nl/sru/Search?&version=1.2&x-connection=BWB&operation=searchRetrieve&startRecord=3001&maximumRecords=500&query=dcterms.modified%20%3E%3D%202024-01-12'\n",
      "[SRU searchRetrieve] fetching 'http://zoekservice.overheid.nl/sru/Search?&version=1.2&x-connection=BWB&operation=searchRetrieve&startRecord=3501&maximumRecords=500&query=dcterms.modified%20%3E%3D%202024-01-12'\n",
      "[SRU searchRetrieve] fetching 'http://zoekservice.overheid.nl/sru/Search?&version=1.2&x-connection=BWB&operation=searchRetrieve&startRecord=4001&maximumRecords=500&query=dcterms.modified%20%3E%3D%202024-01-12'\n",
      "FETCHED new data for BWBR0020421 - {'identifier': 'BWBR0020421', 'title': 'Besluit Gedragstoezicht financiële ondernemingen Wft', 'type': 'AMvB', 'language': 'nl', 'authority': 'Financiën', 'creator': 'Ministerie van Binnenlandse Zaken en Koninkrijksrelaties', 'modified': '2024-02-06', 'created': '2024-02-06', 'toestand': 'http://wetten.overheid.nl/id/BWBR0020421/2024-01-31/0', 'rechtsgebied': 'Toezicht bank- en kredietwezen', 'overheidsdomein': 'Financiën', 'geldigheidsperiode_startdatum': '2024-01-31', 'geldigheidsperiode_einddatum': '9999-12-31', 'zichtperiode_startdatum': '2024-01-31', 'zichtperiode_einddatum': '9999-12-31', 'locatie_toestand': 'https://repository.officiele-overheidspublicaties.nl/bwb/BWBR0020421/2024-01-31_0/xml/BWBR0020421_2024-01-31_0.xml', 'locatie_wti': 'https://repository.officiele-overheidspublicaties.nl/bwb/BWBR0020421/BWBR0020421.WTI', 'locatie_manifest': 'https://repository.officiele-overheidspublicaties.nl/bwb/BWBR0020421/manifest.xml'}\n",
      "FETCHED new data for BWBR0024705 - {'identifier': 'BWBR0024705', 'title': 'Wet publieke gezondheid', 'type': 'wet', 'language': 'nl', 'authority': 'Volksgezondheid, Welzijn en Sport', 'creator': 'Ministerie van Binnenlandse Zaken en Koninkrijksrelaties', 'modified': '2024-02-03', 'created': '2024-02-03', 'toestand': 'http://wetten.overheid.nl/id/BWBR0024705/2024-02-01/0', 'rechtsgebied': 'Gezondheidsrecht en farmaceutisch recht', 'overheidsdomein': 'Gezondheid en zorg', 'geldigheidsperiode_startdatum': '2024-02-01', 'geldigheidsperiode_einddatum': '9999-12-31', 'zichtperiode_startdatum': '2024-02-01', 'zichtperiode_einddatum': '9999-12-31', 'locatie_toestand': 'https://repository.officiele-overheidspublicaties.nl/bwb/BWBR0024705/2024-02-01_0/xml/BWBR0024705_2024-02-01_0.xml', 'locatie_wti': 'https://repository.officiele-overheidspublicaties.nl/bwb/BWBR0024705/BWBR0024705.WTI', 'locatie_manifest': 'https://repository.officiele-overheidspublicaties.nl/bwb/BWBR0024705/manifest.xml'}\n",
      "FETCHED new data for BWBR0024733 - {'identifier': 'BWBR0024733', 'title': 'Regeling eigen bijdrage asielzoekers met inkomen en vermogen 2008', 'type': 'ministeriele-regeling', 'language': 'nl', 'authority': 'Veiligheid en Justitie', 'creator': 'Ministerie van Binnenlandse Zaken en Koninkrijksrelaties', 'modified': '2024-02-03', 'created': '2024-02-03', 'toestand': 'http://wetten.overheid.nl/id/BWBR0024733/2024-02-01/0', 'rechtsgebied': 'Vreemdelingenrecht', 'overheidsdomein': 'Immigratie, integratie en inburgering', 'geldigheidsperiode_startdatum': '2024-02-01', 'geldigheidsperiode_einddatum': '9999-12-31', 'zichtperiode_startdatum': '2024-02-01', 'zichtperiode_einddatum': '9999-12-31', 'locatie_toestand': 'https://repository.officiele-overheidspublicaties.nl/bwb/BWBR0024733/2024-02-01_0/xml/BWBR0024733_2024-02-01_0.xml', 'locatie_wti': 'https://repository.officiele-overheidspublicaties.nl/bwb/BWBR0024733/BWBR0024733.WTI', 'locatie_manifest': 'https://repository.officiele-overheidspublicaties.nl/bwb/BWBR0024733/manifest.xml'}\n",
      "FETCHED new data for BWBR0025958 - {'identifier': 'BWBR0025958', 'title': 'Binnenvaartregeling', 'type': 'ministeriele-regeling', 'language': 'nl', 'authority': 'Infrastructuur en Milieu', 'creator': 'Ministerie van Binnenlandse Zaken en Koninkrijksrelaties', 'modified': '2024-02-03', 'created': '2024-02-03', 'toestand': 'http://wetten.overheid.nl/id/BWBR0025958/2023-06-01/0', 'rechtsgebied': 'Vervoersrecht', 'overheidsdomein': 'Verkeer en vervoer', 'geldigheidsperiode_startdatum': '2023-06-01', 'geldigheidsperiode_einddatum': '2023-12-31', 'zichtperiode_startdatum': '2023-05-04', 'zichtperiode_einddatum': '2024-01-31', 'locatie_toestand': 'https://repository.officiele-overheidspublicaties.nl/bwb/BWBR0025958/2023-06-01_0/xml/BWBR0025958_2023-06-01_0.xml', 'locatie_wti': 'https://repository.officiele-overheidspublicaties.nl/bwb/BWBR0025958/BWBR0025958.WTI', 'locatie_manifest': 'https://repository.officiele-overheidspublicaties.nl/bwb/BWBR0025958/manifest.xml'}\n",
      "FETCHED new data for BWBR0025958 - {'identifier': 'BWBR0025958', 'title': 'Binnenvaartregeling', 'type': 'ministeriele-regeling', 'language': 'nl', 'authority': 'Infrastructuur en Milieu', 'creator': 'Ministerie van Binnenlandse Zaken en Koninkrijksrelaties', 'modified': '2024-02-03', 'created': '2024-02-03', 'toestand': 'http://wetten.overheid.nl/id/BWBR0025958/2023-06-01/1', 'rechtsgebied': 'Vervoersrecht', 'overheidsdomein': 'Verkeer en vervoer', 'geldigheidsperiode_startdatum': '2023-06-01', 'geldigheidsperiode_einddatum': '2023-12-31', 'zichtperiode_startdatum': '2024-02-01', 'zichtperiode_einddatum': '9999-12-31', 'locatie_toestand': 'https://repository.officiele-overheidspublicaties.nl/bwb/BWBR0025958/2023-06-01_1/xml/BWBR0025958_2023-06-01_1.xml', 'locatie_wti': 'https://repository.officiele-overheidspublicaties.nl/bwb/BWBR0025958/BWBR0025958.WTI', 'locatie_manifest': 'https://repository.officiele-overheidspublicaties.nl/bwb/BWBR0025958/manifest.xml'}\n",
      "FETCHED new data for BWBR0025958 - {'identifier': 'BWBR0025958', 'title': 'Binnenvaartregeling', 'type': 'ministeriele-regeling', 'language': 'nl', 'authority': 'Infrastructuur en Milieu', 'creator': 'Ministerie van Binnenlandse Zaken en Koninkrijksrelaties', 'modified': '2024-02-03', 'created': '2024-02-03', 'toestand': 'http://wetten.overheid.nl/id/BWBR0025958/2024-01-01/1', 'rechtsgebied': 'Vervoersrecht', 'overheidsdomein': 'Verkeer en vervoer', 'geldigheidsperiode_startdatum': '2024-01-01', 'geldigheidsperiode_einddatum': '2024-01-31', 'zichtperiode_startdatum': '2024-02-01', 'zichtperiode_einddatum': '9999-12-31', 'locatie_toestand': 'https://repository.officiele-overheidspublicaties.nl/bwb/BWBR0025958/2024-01-01_1/xml/BWBR0025958_2024-01-01_1.xml', 'locatie_wti': 'https://repository.officiele-overheidspublicaties.nl/bwb/BWBR0025958/BWBR0025958.WTI', 'locatie_manifest': 'https://repository.officiele-overheidspublicaties.nl/bwb/BWBR0025958/manifest.xml'}\n",
      "FETCHED new data for BWBR0025958 - {'identifier': 'BWBR0025958', 'title': 'Binnenvaartregeling', 'type': 'ministeriele-regeling', 'language': 'nl', 'authority': 'Infrastructuur en Milieu', 'creator': 'Ministerie van Binnenlandse Zaken en Koninkrijksrelaties', 'modified': '2024-02-03', 'created': '2024-02-03', 'toestand': 'http://wetten.overheid.nl/id/BWBR0025958/2024-02-01/0', 'rechtsgebied': 'Vervoersrecht', 'overheidsdomein': 'Verkeer en vervoer', 'geldigheidsperiode_startdatum': '2024-02-01', 'geldigheidsperiode_einddatum': '9999-12-31', 'zichtperiode_startdatum': '2024-02-01', 'zichtperiode_einddatum': '9999-12-31', 'locatie_toestand': 'https://repository.officiele-overheidspublicaties.nl/bwb/BWBR0025958/2024-02-01_0/xml/BWBR0025958_2024-02-01_0.xml', 'locatie_wti': 'https://repository.officiele-overheidspublicaties.nl/bwb/BWBR0025958/BWBR0025958.WTI', 'locatie_manifest': 'https://repository.officiele-overheidspublicaties.nl/bwb/BWBR0025958/manifest.xml'}\n",
      "FETCHED new data for BWBR0025973 - {'identifier': 'BWBR0025973', 'title': 'Reglement onderzoek schepen op de Rijn', 'type': 'ministeriele-regeling', 'language': 'nl', 'authority': 'Infrastructuur en Milieu', 'creator': 'Ministerie van Binnenlandse Zaken en Koninkrijksrelaties', 'modified': '2024-02-03', 'created': '2024-02-03', 'toestand': 'http://wetten.overheid.nl/id/BWBR0025973/2023-06-01/0', 'rechtsgebied': 'Onroerend goedrecht', 'overheidsdomein': 'Bouwen, wonen en leefomgeving', 'geldigheidsperiode_startdatum': '2023-06-01', 'geldigheidsperiode_einddatum': '2023-12-31', 'zichtperiode_startdatum': '2022-05-19', 'zichtperiode_einddatum': '2024-01-31', 'locatie_toestand': 'https://repository.officiele-overheidspublicaties.nl/bwb/BWBR0025973/2023-06-01_0/xml/BWBR0025973_2023-06-01_0.xml', 'locatie_wti': 'https://repository.officiele-overheidspublicaties.nl/bwb/BWBR0025973/BWBR0025973.WTI', 'locatie_manifest': 'https://repository.officiele-overheidspublicaties.nl/bwb/BWBR0025973/manifest.xml'}\n",
      "FETCHED new data for BWBR0025973 - {'identifier': 'BWBR0025973', 'title': 'Reglement onderzoek schepen op de Rijn', 'type': 'ministeriele-regeling', 'language': 'nl', 'authority': 'Infrastructuur en Milieu', 'creator': 'Ministerie van Binnenlandse Zaken en Koninkrijksrelaties', 'modified': '2024-02-03', 'created': '2024-02-03', 'toestand': 'http://wetten.overheid.nl/id/BWBR0025973/2023-06-01/1', 'rechtsgebied': 'Onroerend goedrecht', 'overheidsdomein': 'Bouwen, wonen en leefomgeving', 'geldigheidsperiode_startdatum': '2023-06-01', 'geldigheidsperiode_einddatum': '2023-12-31', 'zichtperiode_startdatum': '2024-02-01', 'zichtperiode_einddatum': '9999-12-31', 'locatie_toestand': 'https://repository.officiele-overheidspublicaties.nl/bwb/BWBR0025973/2023-06-01_1/xml/BWBR0025973_2023-06-01_1.xml', 'locatie_wti': 'https://repository.officiele-overheidspublicaties.nl/bwb/BWBR0025973/BWBR0025973.WTI', 'locatie_manifest': 'https://repository.officiele-overheidspublicaties.nl/bwb/BWBR0025973/manifest.xml'}\n",
      "FETCHED new data for BWBR0025973 - {'identifier': 'BWBR0025973', 'title': 'Reglement onderzoek schepen op de Rijn', 'type': 'ministeriele-regeling', 'language': 'nl', 'authority': 'Infrastructuur en Milieu', 'creator': 'Ministerie van Binnenlandse Zaken en Koninkrijksrelaties', 'modified': '2024-02-03', 'created': '2024-02-03', 'toestand': 'http://wetten.overheid.nl/id/BWBR0025973/2024-01-01/1', 'rechtsgebied': 'Onroerend goedrecht', 'overheidsdomein': 'Bouwen, wonen en leefomgeving', 'geldigheidsperiode_startdatum': '2024-01-01', 'geldigheidsperiode_einddatum': '2024-01-31', 'zichtperiode_startdatum': '2024-02-01', 'zichtperiode_einddatum': '9999-12-31', 'locatie_toestand': 'https://repository.officiele-overheidspublicaties.nl/bwb/BWBR0025973/2024-01-01_1/xml/BWBR0025973_2024-01-01_1.xml', 'locatie_wti': 'https://repository.officiele-overheidspublicaties.nl/bwb/BWBR0025973/BWBR0025973.WTI', 'locatie_manifest': 'https://repository.officiele-overheidspublicaties.nl/bwb/BWBR0025973/manifest.xml'}\n",
      "FETCHED new data for BWBR0025973 - {'identifier': 'BWBR0025973', 'title': 'Reglement onderzoek schepen op de Rijn', 'type': 'ministeriele-regeling', 'language': 'nl', 'authority': 'Infrastructuur en Milieu', 'creator': 'Ministerie van Binnenlandse Zaken en Koninkrijksrelaties', 'modified': '2024-02-03', 'created': '2024-02-03', 'toestand': 'http://wetten.overheid.nl/id/BWBR0025973/2024-02-01/0', 'rechtsgebied': 'Onroerend goedrecht', 'overheidsdomein': 'Bouwen, wonen en leefomgeving', 'geldigheidsperiode_startdatum': '2024-02-01', 'geldigheidsperiode_einddatum': '9999-12-31', 'zichtperiode_startdatum': '2024-02-01', 'zichtperiode_einddatum': '9999-12-31', 'locatie_toestand': 'https://repository.officiele-overheidspublicaties.nl/bwb/BWBR0025973/2024-02-01_0/xml/BWBR0025973_2024-02-01_0.xml', 'locatie_wti': 'https://repository.officiele-overheidspublicaties.nl/bwb/BWBR0025973/BWBR0025973.WTI', 'locatie_manifest': 'https://repository.officiele-overheidspublicaties.nl/bwb/BWBR0025973/manifest.xml'}\n",
      "FETCHED new data for BWBR0025977 - {'identifier': 'BWBR0025977', 'title': 'Regeling leerplusarrangement vo', 'type': 'ministeriele-regeling', 'language': 'nl', 'authority': 'Onderwijs, Cultuur en Wetenschap', 'creator': 'Ministerie van Binnenlandse Zaken en Koninkrijksrelaties', 'modified': '2024-02-06', 'created': '2024-02-06', 'toestand': 'http://wetten.overheid.nl/id/BWBR0025977/2024-01-01/0', 'rechtsgebied': 'Onderwijsrecht', 'overheidsdomein': 'Onderwijs en wetenschap', 'geldigheidsperiode_startdatum': '2024-01-01', 'geldigheidsperiode_einddatum': '2024-01-31', 'zichtperiode_startdatum': '2023-01-01', 'zichtperiode_einddatum': '2024-01-31', 'locatie_toestand': 'https://repository.officiele-overheidspublicaties.nl/bwb/BWBR0025977/2024-01-01_0/xml/BWBR0025977_2024-01-01_0.xml', 'locatie_wti': 'https://repository.officiele-overheidspublicaties.nl/bwb/BWBR0025977/BWBR0025977.WTI', 'locatie_manifest': 'https://repository.officiele-overheidspublicaties.nl/bwb/BWBR0025977/manifest.xml'}\n",
      "FETCHED new data for BWBR0037940 - {'identifier': 'BWBR0037940', 'title': 'Netcode elektriciteit', 'type': 'zbo', 'language': 'nl', 'authority': 'Autoriteit Consument en Markt', 'creator': 'Ministerie van Binnenlandse Zaken en Koninkrijksrelaties', 'modified': '2024-02-03', 'created': '2024-02-03', 'toestand': 'http://wetten.overheid.nl/id/BWBR0037940/2024-02-01/0', 'rechtsgebied': 'Mededingingsrecht', 'overheidsdomein': 'Economie en ondernemen', 'geldigheidsperiode_startdatum': '2024-02-01', 'geldigheidsperiode_einddatum': '9999-12-31', 'zichtperiode_startdatum': '2024-02-01', 'zichtperiode_einddatum': '9999-12-31', 'locatie_toestand': 'https://repository.officiele-overheidspublicaties.nl/bwb/BWBR0037940/2024-02-01_0/xml/BWBR0037940_2024-02-01_0.xml', 'locatie_wti': 'https://repository.officiele-overheidspublicaties.nl/bwb/BWBR0037940/BWBR0037940.WTI', 'locatie_manifest': 'https://repository.officiele-overheidspublicaties.nl/bwb/BWBR0037940/manifest.xml'}\n",
      "FETCHED new data for BWBR0037951 - {'identifier': 'BWBR0037951', 'title': 'Tarievencode elektriciteit', 'type': 'zbo', 'language': 'nl', 'authority': 'Autoriteit Consument en Markt', 'creator': 'Ministerie van Binnenlandse Zaken en Koninkrijksrelaties', 'modified': '2024-02-03', 'created': '2024-02-03', 'toestand': 'http://wetten.overheid.nl/id/BWBR0037951/2024-02-01/0', 'rechtsgebied': 'Mededingingsrecht', 'overheidsdomein': 'Economie en ondernemen', 'geldigheidsperiode_startdatum': '2024-02-01', 'geldigheidsperiode_einddatum': '9999-12-31', 'zichtperiode_startdatum': '2024-02-01', 'zichtperiode_einddatum': '9999-12-31', 'locatie_toestand': 'https://repository.officiele-overheidspublicaties.nl/bwb/BWBR0037951/2024-02-01_0/xml/BWBR0037951_2024-02-01_0.xml', 'locatie_wti': 'https://repository.officiele-overheidspublicaties.nl/bwb/BWBR0037951/BWBR0037951.WTI', 'locatie_manifest': 'https://repository.officiele-overheidspublicaties.nl/bwb/BWBR0037951/manifest.xml'}\n",
      "FETCHED new data for BWBR0039787 - {'identifier': 'BWBR0039787', 'title': 'Regeling dienstreizen defensie', 'type': 'ministeriele-regeling', 'language': 'nl', 'authority': 'Defensie', 'creator': 'Ministerie van Binnenlandse Zaken en Koninkrijksrelaties', 'modified': '2024-02-09', 'created': '2024-02-09', 'toestand': 'http://wetten.overheid.nl/id/BWBR0039787/2024-01-02/0', 'rechtsgebied': 'Militaire ambtenarenrecht', 'overheidsdomein': 'Werk- en loopbaan', 'geldigheidsperiode_startdatum': '2024-01-02', 'geldigheidsperiode_einddatum': '2024-02-07', 'zichtperiode_startdatum': '2023-07-14', 'zichtperiode_einddatum': '2024-02-07', 'locatie_toestand': 'https://repository.officiele-overheidspublicaties.nl/bwb/BWBR0039787/2024-01-02_0/xml/BWBR0039787_2024-01-02_0.xml', 'locatie_wti': 'https://repository.officiele-overheidspublicaties.nl/bwb/BWBR0039787/BWBR0039787.WTI', 'locatie_manifest': 'https://repository.officiele-overheidspublicaties.nl/bwb/BWBR0039787/manifest.xml'}\n",
      "FETCHED new data for BWBR0039787 - {'identifier': 'BWBR0039787', 'title': 'Regeling dienstreizen defensie', 'type': 'ministeriele-regeling', 'language': 'nl', 'authority': 'Defensie', 'creator': 'Ministerie van Binnenlandse Zaken en Koninkrijksrelaties', 'modified': '2024-02-09', 'created': '2024-02-09', 'toestand': 'http://wetten.overheid.nl/id/BWBR0039787/2024-01-02/1', 'rechtsgebied': 'Militaire ambtenarenrecht', 'overheidsdomein': 'Werk- en loopbaan', 'geldigheidsperiode_startdatum': '2024-01-02', 'geldigheidsperiode_einddatum': '2024-02-07', 'zichtperiode_startdatum': '2024-02-08', 'zichtperiode_einddatum': '9999-12-31', 'locatie_toestand': 'https://repository.officiele-overheidspublicaties.nl/bwb/BWBR0039787/2024-01-02_1/xml/BWBR0039787_2024-01-02_1.xml', 'locatie_wti': 'https://repository.officiele-overheidspublicaties.nl/bwb/BWBR0039787/BWBR0039787.WTI', 'locatie_manifest': 'https://repository.officiele-overheidspublicaties.nl/bwb/BWBR0039787/manifest.xml'}\n",
      "FETCHED new data for BWBR0039787 - {'identifier': 'BWBR0039787', 'title': 'Regeling dienstreizen defensie', 'type': 'ministeriele-regeling', 'language': 'nl', 'authority': 'Defensie', 'creator': 'Ministerie van Binnenlandse Zaken en Koninkrijksrelaties', 'modified': '2024-02-09', 'created': '2024-02-09', 'toestand': 'http://wetten.overheid.nl/id/BWBR0039787/2024-02-08/0', 'rechtsgebied': 'Militaire ambtenarenrecht', 'overheidsdomein': 'Werk- en loopbaan', 'geldigheidsperiode_startdatum': '2024-02-08', 'geldigheidsperiode_einddatum': '9999-12-31', 'zichtperiode_startdatum': '2024-02-08', 'zichtperiode_einddatum': '9999-12-31', 'locatie_toestand': 'https://repository.officiele-overheidspublicaties.nl/bwb/BWBR0039787/2024-02-08_0/xml/BWBR0039787_2024-02-08_0.xml', 'locatie_wti': 'https://repository.officiele-overheidspublicaties.nl/bwb/BWBR0039787/BWBR0039787.WTI', 'locatie_manifest': 'https://repository.officiele-overheidspublicaties.nl/bwb/BWBR0039787/manifest.xml'}\n",
      "FETCHED new data for BWBR0041392 - {'identifier': 'BWBR0041392', 'title': 'Regeling medisch-specialistische zorg', 'type': 'zbo', 'language': 'nl', 'authority': 'Nederlandse Zorgautoriteit', 'creator': 'Ministerie van Binnenlandse Zaken en Koninkrijksrelaties', 'modified': '2024-02-07', 'created': '2018-09-28', 'toestand': 'http://wetten.overheid.nl/id/BWBR0041392/2018-09-28/0', 'rechtsgebied': 'Gezondheidsrecht en farmaceutisch recht', 'overheidsdomein': 'Gezondheid en zorg', 'geldigheidsperiode_startdatum': '2018-09-28', 'geldigheidsperiode_einddatum': '2018-12-31', 'zichtperiode_startdatum': '2018-09-28', 'zichtperiode_einddatum': '9999-12-31', 'locatie_toestand': 'https://repository.officiele-overheidspublicaties.nl/bwb/BWBR0041392/2018-09-28_0/xml/BWBR0041392_2018-09-28_0.xml', 'locatie_wti': 'https://repository.officiele-overheidspublicaties.nl/bwb/BWBR0041392/BWBR0041392.WTI', 'locatie_manifest': 'https://repository.officiele-overheidspublicaties.nl/bwb/BWBR0041392/manifest.xml'}\n",
      "FETCHED new data for BWBR0041619 - {'identifier': 'BWBR0041619', 'title': 'Subsidieregeling onderwijspersoneel opleiding tot leraar', 'type': 'ministeriele-regeling', 'language': 'nl', 'authority': 'Onderwijs, Cultuur en Wetenschap', 'creator': 'Ministerie van Binnenlandse Zaken en Koninkrijksrelaties', 'modified': '2024-02-03', 'created': '2024-02-03', 'toestand': 'http://wetten.overheid.nl/id/BWBR0041619/2024-01-01/0', 'rechtsgebied': 'Onderwijsrecht', 'overheidsdomein': 'Onderwijs en wetenschap', 'geldigheidsperiode_startdatum': '2024-01-01', 'geldigheidsperiode_einddatum': '2024-01-31', 'zichtperiode_startdatum': '2023-07-11', 'zichtperiode_einddatum': '2024-01-31', 'locatie_toestand': 'https://repository.officiele-overheidspublicaties.nl/bwb/BWBR0041619/2024-01-01_0/xml/BWBR0041619_2024-01-01_0.xml', 'locatie_wti': 'https://repository.officiele-overheidspublicaties.nl/bwb/BWBR0041619/BWBR0041619.WTI', 'locatie_manifest': 'https://repository.officiele-overheidspublicaties.nl/bwb/BWBR0041619/manifest.xml'}\n",
      "FETCHED new data for BWBR0041619 - {'identifier': 'BWBR0041619', 'title': 'Subsidieregeling onderwijspersoneel opleiding tot leraar', 'type': 'ministeriele-regeling', 'language': 'nl', 'authority': 'Onderwijs, Cultuur en Wetenschap', 'creator': 'Ministerie van Binnenlandse Zaken en Koninkrijksrelaties', 'modified': '2024-02-03', 'created': '2024-02-03', 'toestand': 'http://wetten.overheid.nl/id/BWBR0041619/2024-01-01/1', 'rechtsgebied': 'Onderwijsrecht', 'overheidsdomein': 'Onderwijs en wetenschap', 'geldigheidsperiode_startdatum': '2024-01-01', 'geldigheidsperiode_einddatum': '2024-01-31', 'zichtperiode_startdatum': '2024-02-01', 'zichtperiode_einddatum': '9999-12-31', 'locatie_toestand': 'https://repository.officiele-overheidspublicaties.nl/bwb/BWBR0041619/2024-01-01_1/xml/BWBR0041619_2024-01-01_1.xml', 'locatie_wti': 'https://repository.officiele-overheidspublicaties.nl/bwb/BWBR0041619/BWBR0041619.WTI', 'locatie_manifest': 'https://repository.officiele-overheidspublicaties.nl/bwb/BWBR0041619/manifest.xml'}\n",
      "FETCHED new data for BWBR0041619 - {'identifier': 'BWBR0041619', 'title': 'Subsidieregeling onderwijspersoneel opleiding tot leraar', 'type': 'ministeriele-regeling', 'language': 'nl', 'authority': 'Onderwijs, Cultuur en Wetenschap', 'creator': 'Ministerie van Binnenlandse Zaken en Koninkrijksrelaties', 'modified': '2024-02-03', 'created': '2024-02-03', 'toestand': 'http://wetten.overheid.nl/id/BWBR0041619/2024-02-01/0', 'rechtsgebied': 'Onderwijsrecht', 'overheidsdomein': 'Onderwijs en wetenschap', 'geldigheidsperiode_startdatum': '2024-02-01', 'geldigheidsperiode_einddatum': '9999-12-31', 'zichtperiode_startdatum': '2024-02-01', 'zichtperiode_einddatum': '9999-12-31', 'locatie_toestand': 'https://repository.officiele-overheidspublicaties.nl/bwb/BWBR0041619/2024-02-01_0/xml/BWBR0041619_2024-02-01_0.xml', 'locatie_wti': 'https://repository.officiele-overheidspublicaties.nl/bwb/BWBR0041619/BWBR0041619.WTI', 'locatie_manifest': 'https://repository.officiele-overheidspublicaties.nl/bwb/BWBR0041619/manifest.xml'}\n",
      "FETCHED new data for BWBR0042181 - {'identifier': 'BWBR0042181', 'title': 'Mandaatbesluit NCTV Ministerie van Justitie en Veiligheid 2019', 'type': 'ministeriele-regeling', 'language': 'nl', 'authority': 'Justitie en Veiligheid', 'creator': 'Ministerie van Binnenlandse Zaken en Koninkrijksrelaties', 'modified': '2024-02-09', 'created': '2024-02-09', 'toestand': 'http://wetten.overheid.nl/id/BWBR0042181/2021-07-01/0', 'rechtsgebied': 'Staatsrecht', 'overheidsdomein': 'Overheid, bestuur en koninkrijk', 'geldigheidsperiode_startdatum': '2021-07-01', 'geldigheidsperiode_einddatum': '2022-05-31', 'zichtperiode_startdatum': '2019-05-07', 'zichtperiode_einddatum': '2022-11-03', 'locatie_toestand': 'https://repository.officiele-overheidspublicaties.nl/bwb/BWBR0042181/2021-07-01_0/xml/BWBR0042181_2021-07-01_0.xml', 'locatie_wti': 'https://repository.officiele-overheidspublicaties.nl/bwb/BWBR0042181/BWBR0042181.WTI', 'locatie_manifest': 'https://repository.officiele-overheidspublicaties.nl/bwb/BWBR0042181/manifest.xml'}\n",
      "FETCHED new data for BWBR0042181 - {'identifier': 'BWBR0042181', 'title': 'Mandaatbesluit NCTV Ministerie van Justitie en Veiligheid 2019', 'type': 'ministeriele-regeling', 'language': 'nl', 'authority': 'Justitie en Veiligheid', 'creator': 'Ministerie van Binnenlandse Zaken en Koninkrijksrelaties', 'modified': '2024-02-09', 'created': '2024-02-09', 'toestand': 'http://wetten.overheid.nl/id/BWBR0042181/2021-07-01/1', 'rechtsgebied': 'Staatsrecht', 'overheidsdomein': 'Overheid, bestuur en koninkrijk', 'geldigheidsperiode_startdatum': '2021-07-01', 'geldigheidsperiode_einddatum': '2022-05-31', 'zichtperiode_startdatum': '2022-11-04', 'zichtperiode_einddatum': '2024-02-06', 'locatie_toestand': 'https://repository.officiele-overheidspublicaties.nl/bwb/BWBR0042181/2021-07-01_1/xml/BWBR0042181_2021-07-01_1.xml', 'locatie_wti': 'https://repository.officiele-overheidspublicaties.nl/bwb/BWBR0042181/BWBR0042181.WTI', 'locatie_manifest': 'https://repository.officiele-overheidspublicaties.nl/bwb/BWBR0042181/manifest.xml'}\n",
      "FETCHED new data for BWBR0042181 - {'identifier': 'BWBR0042181', 'title': 'Mandaatbesluit NCTV Ministerie van Justitie en Veiligheid 2019', 'type': 'ministeriele-regeling', 'language': 'nl', 'authority': 'Justitie en Veiligheid', 'creator': 'Ministerie van Binnenlandse Zaken en Koninkrijksrelaties', 'modified': '2024-02-09', 'created': '2024-02-09', 'toestand': 'http://wetten.overheid.nl/id/BWBR0042181/2021-07-01/2', 'rechtsgebied': 'Staatsrecht', 'overheidsdomein': 'Overheid, bestuur en koninkrijk', 'geldigheidsperiode_startdatum': '2021-07-01', 'geldigheidsperiode_einddatum': '2022-05-31', 'zichtperiode_startdatum': '2024-02-07', 'zichtperiode_einddatum': '9999-12-31', 'locatie_toestand': 'https://repository.officiele-overheidspublicaties.nl/bwb/BWBR0042181/2021-07-01_2/xml/BWBR0042181_2021-07-01_2.xml', 'locatie_wti': 'https://repository.officiele-overheidspublicaties.nl/bwb/BWBR0042181/BWBR0042181.WTI', 'locatie_manifest': 'https://repository.officiele-overheidspublicaties.nl/bwb/BWBR0042181/manifest.xml'}\n",
      "FETCHED new data for BWBR0042181 - {'identifier': 'BWBR0042181', 'title': 'Mandaatbesluit NCTV Ministerie van Justitie en Veiligheid 2019', 'type': 'ministeriele-regeling', 'language': 'nl', 'authority': 'Justitie en Veiligheid', 'creator': 'Ministerie van Binnenlandse Zaken en Koninkrijksrelaties', 'modified': '2024-02-09', 'created': '2024-02-09', 'toestand': 'http://wetten.overheid.nl/id/BWBR0042181/2022-06-01/2', 'rechtsgebied': 'Staatsrecht', 'overheidsdomein': 'Overheid, bestuur en koninkrijk', 'geldigheidsperiode_startdatum': '2022-06-01', 'geldigheidsperiode_einddatum': '2022-06-30', 'zichtperiode_startdatum': '2024-02-07', 'zichtperiode_einddatum': '9999-12-31', 'locatie_toestand': 'https://repository.officiele-overheidspublicaties.nl/bwb/BWBR0042181/2022-06-01_2/xml/BWBR0042181_2022-06-01_2.xml', 'locatie_wti': 'https://repository.officiele-overheidspublicaties.nl/bwb/BWBR0042181/BWBR0042181.WTI', 'locatie_manifest': 'https://repository.officiele-overheidspublicaties.nl/bwb/BWBR0042181/manifest.xml'}\n",
      "FETCHED new data for BWBR0042181 - {'identifier': 'BWBR0042181', 'title': 'Mandaatbesluit NCTV Ministerie van Justitie en Veiligheid 2019', 'type': 'ministeriele-regeling', 'language': 'nl', 'authority': 'Justitie en Veiligheid', 'creator': 'Ministerie van Binnenlandse Zaken en Koninkrijksrelaties', 'modified': '2024-02-09', 'created': '2024-02-09', 'toestand': 'http://wetten.overheid.nl/id/BWBR0042181/2022-07-01/2', 'rechtsgebied': 'Staatsrecht', 'overheidsdomein': 'Overheid, bestuur en koninkrijk', 'geldigheidsperiode_startdatum': '2022-07-01', 'geldigheidsperiode_einddatum': '2022-08-31', 'zichtperiode_startdatum': '2024-02-07', 'zichtperiode_einddatum': '9999-12-31', 'locatie_toestand': 'https://repository.officiele-overheidspublicaties.nl/bwb/BWBR0042181/2022-07-01_2/xml/BWBR0042181_2022-07-01_2.xml', 'locatie_wti': 'https://repository.officiele-overheidspublicaties.nl/bwb/BWBR0042181/BWBR0042181.WTI', 'locatie_manifest': 'https://repository.officiele-overheidspublicaties.nl/bwb/BWBR0042181/manifest.xml'}\n",
      "FETCHED new data for BWBR0042181 - {'identifier': 'BWBR0042181', 'title': 'Mandaatbesluit NCTV Ministerie van Justitie en Veiligheid 2019', 'type': 'ministeriele-regeling', 'language': 'nl', 'authority': 'Justitie en Veiligheid', 'creator': 'Ministerie van Binnenlandse Zaken en Koninkrijksrelaties', 'modified': '2024-02-09', 'created': '2024-02-09', 'toestand': 'http://wetten.overheid.nl/id/BWBR0042181/2022-09-01/2', 'rechtsgebied': 'Staatsrecht', 'overheidsdomein': 'Overheid, bestuur en koninkrijk', 'geldigheidsperiode_startdatum': '2022-09-01', 'geldigheidsperiode_einddatum': '2022-11-03', 'zichtperiode_startdatum': '2024-02-07', 'zichtperiode_einddatum': '9999-12-31', 'locatie_toestand': 'https://repository.officiele-overheidspublicaties.nl/bwb/BWBR0042181/2022-09-01_2/xml/BWBR0042181_2022-09-01_2.xml', 'locatie_wti': 'https://repository.officiele-overheidspublicaties.nl/bwb/BWBR0042181/BWBR0042181.WTI', 'locatie_manifest': 'https://repository.officiele-overheidspublicaties.nl/bwb/BWBR0042181/manifest.xml'}\n",
      "FETCHED new data for BWBR0042181 - {'identifier': 'BWBR0042181', 'title': 'Mandaatbesluit NCTV Ministerie van Justitie en Veiligheid 2019', 'type': 'ministeriele-regeling', 'language': 'nl', 'authority': 'Justitie en Veiligheid', 'creator': 'Ministerie van Binnenlandse Zaken en Koninkrijksrelaties', 'modified': '2024-02-09', 'created': '2024-02-09', 'toestand': 'http://wetten.overheid.nl/id/BWBR0042181/2022-11-04/1', 'rechtsgebied': 'Staatsrecht', 'overheidsdomein': 'Overheid, bestuur en koninkrijk', 'geldigheidsperiode_startdatum': '2022-11-04', 'geldigheidsperiode_einddatum': '2022-11-30', 'zichtperiode_startdatum': '2024-02-07', 'zichtperiode_einddatum': '9999-12-31', 'locatie_toestand': 'https://repository.officiele-overheidspublicaties.nl/bwb/BWBR0042181/2022-11-04_1/xml/BWBR0042181_2022-11-04_1.xml', 'locatie_wti': 'https://repository.officiele-overheidspublicaties.nl/bwb/BWBR0042181/BWBR0042181.WTI', 'locatie_manifest': 'https://repository.officiele-overheidspublicaties.nl/bwb/BWBR0042181/manifest.xml'}\n",
      "FETCHED new data for BWBR0042181 - {'identifier': 'BWBR0042181', 'title': 'Mandaatbesluit NCTV Ministerie van Justitie en Veiligheid 2019', 'type': 'ministeriele-regeling', 'language': 'nl', 'authority': 'Justitie en Veiligheid', 'creator': 'Ministerie van Binnenlandse Zaken en Koninkrijksrelaties', 'modified': '2024-02-09', 'created': '2024-02-09', 'toestand': 'http://wetten.overheid.nl/id/BWBR0042181/2022-12-01/0', 'rechtsgebied': 'Staatsrecht', 'overheidsdomein': 'Overheid, bestuur en koninkrijk', 'geldigheidsperiode_startdatum': '2022-12-01', 'geldigheidsperiode_einddatum': '2024-02-06', 'zichtperiode_startdatum': '2022-11-04', 'zichtperiode_einddatum': '2024-02-06', 'locatie_toestand': 'https://repository.officiele-overheidspublicaties.nl/bwb/BWBR0042181/2022-12-01_0/xml/BWBR0042181_2022-12-01_0.xml', 'locatie_wti': 'https://repository.officiele-overheidspublicaties.nl/bwb/BWBR0042181/BWBR0042181.WTI', 'locatie_manifest': 'https://repository.officiele-overheidspublicaties.nl/bwb/BWBR0042181/manifest.xml'}\n",
      "FETCHED new data for BWBR0042181 - {'identifier': 'BWBR0042181', 'title': 'Mandaatbesluit NCTV Ministerie van Justitie en Veiligheid 2019', 'type': 'ministeriele-regeling', 'language': 'nl', 'authority': 'Justitie en Veiligheid', 'creator': 'Ministerie van Binnenlandse Zaken en Koninkrijksrelaties', 'modified': '2024-02-09', 'created': '2024-02-09', 'toestand': 'http://wetten.overheid.nl/id/BWBR0042181/2022-12-01/1', 'rechtsgebied': 'Staatsrecht', 'overheidsdomein': 'Overheid, bestuur en koninkrijk', 'geldigheidsperiode_startdatum': '2022-12-01', 'geldigheidsperiode_einddatum': '2024-02-06', 'zichtperiode_startdatum': '2024-02-07', 'zichtperiode_einddatum': '9999-12-31', 'locatie_toestand': 'https://repository.officiele-overheidspublicaties.nl/bwb/BWBR0042181/2022-12-01_1/xml/BWBR0042181_2022-12-01_1.xml', 'locatie_wti': 'https://repository.officiele-overheidspublicaties.nl/bwb/BWBR0042181/BWBR0042181.WTI', 'locatie_manifest': 'https://repository.officiele-overheidspublicaties.nl/bwb/BWBR0042181/manifest.xml'}\n",
      "FETCHED new data for BWBR0042181 - {'identifier': 'BWBR0042181', 'title': 'Mandaatbesluit NCTV Ministerie van Justitie en Veiligheid 2019', 'type': 'ministeriele-regeling', 'language': 'nl', 'authority': 'Justitie en Veiligheid', 'creator': 'Ministerie van Binnenlandse Zaken en Koninkrijksrelaties', 'modified': '2024-02-09', 'created': '2024-02-09', 'toestand': 'http://wetten.overheid.nl/id/BWBR0042181/2024-02-07/0', 'rechtsgebied': 'Staatsrecht', 'overheidsdomein': 'Overheid, bestuur en koninkrijk', 'geldigheidsperiode_startdatum': '2024-02-07', 'geldigheidsperiode_einddatum': '9999-12-31', 'zichtperiode_startdatum': '2024-02-07', 'zichtperiode_einddatum': '9999-12-31', 'locatie_toestand': 'https://repository.officiele-overheidspublicaties.nl/bwb/BWBR0042181/2024-02-07_0/xml/BWBR0042181_2024-02-07_0.xml', 'locatie_wti': 'https://repository.officiele-overheidspublicaties.nl/bwb/BWBR0042181/BWBR0042181.WTI', 'locatie_manifest': 'https://repository.officiele-overheidspublicaties.nl/bwb/BWBR0042181/manifest.xml'}\n",
      "FETCHED new data for BWBR0043288 - {'identifier': 'BWBR0043288', 'title': 'Organisatie-, mandaat- en volmachtbesluit Rijksschoonmaakorganisatie 2019', 'type': 'ministeriele-regeling', 'language': 'nl', 'authority': 'Sociale Zaken en Werkgelegenheid', 'creator': 'Ministerie van Binnenlandse Zaken en Koninkrijksrelaties', 'modified': '2024-02-08', 'created': '2024-02-08', 'toestand': 'http://wetten.overheid.nl/id/BWBR0043288/2023-01-01/0', 'rechtsgebied': 'Staatsrecht', 'overheidsdomein': 'Overheid, bestuur en koninkrijk', 'geldigheidsperiode_startdatum': '2023-01-01', 'geldigheidsperiode_einddatum': '2024-02-06', 'zichtperiode_startdatum': '2021-09-09', 'zichtperiode_einddatum': '2024-02-06', 'locatie_toestand': 'https://repository.officiele-overheidspublicaties.nl/bwb/BWBR0043288/2023-01-01_0/xml/BWBR0043288_2023-01-01_0.xml', 'locatie_wti': 'https://repository.officiele-overheidspublicaties.nl/bwb/BWBR0043288/BWBR0043288.WTI', 'locatie_manifest': 'https://repository.officiele-overheidspublicaties.nl/bwb/BWBR0043288/manifest.xml'}\n",
      "FETCHED new data for BWBR0044004 - {'identifier': 'BWBR0044004', 'title': 'Specifiek interventiebeleid NVWA diergeneesmiddelen (IB02-SPEC 03, versie 07)', 'type': 'beleidsregel', 'language': 'nl', 'authority': 'Landbouw, Natuur en Voedselkwaliteit', 'creator': 'Ministerie van Binnenlandse Zaken en Koninkrijksrelaties', 'modified': '2024-02-08', 'created': '2024-02-08', 'toestand': 'http://wetten.overheid.nl/id/BWBR0044004/2020-08-15/0', 'rechtsgebied': 'Milieurecht', 'overheidsdomein': 'Landbouw, natuur en voedsel', 'geldigheidsperiode_startdatum': '2020-08-15', 'geldigheidsperiode_einddatum': '9999-12-31', 'zichtperiode_startdatum': '2020-08-15', 'zichtperiode_einddatum': '9999-12-31', 'locatie_toestand': 'https://repository.officiele-overheidspublicaties.nl/bwb/BWBR0044004/2020-08-15_0/xml/BWBR0044004_2020-08-15_0.xml', 'locatie_wti': 'https://repository.officiele-overheidspublicaties.nl/bwb/BWBR0044004/BWBR0044004.WTI', 'locatie_manifest': 'https://repository.officiele-overheidspublicaties.nl/bwb/BWBR0044004/manifest.xml'}\n",
      "FETCHED new data for BWBR0045051 - {'identifier': 'BWBR0045051', 'title': 'Regeling veterinaire maatregelen specifieke dierziekten of zoönosen', 'type': 'ministeriele-regeling', 'language': 'nl', 'authority': 'Landbouw, Natuur en Voedselkwaliteit', 'creator': 'Ministerie van Binnenlandse Zaken en Koninkrijksrelaties', 'modified': '2024-02-06', 'created': '2024-02-06', 'toestand': 'http://wetten.overheid.nl/id/BWBR0045051/2024-01-29/0', 'rechtsgebied': 'Milieurecht', 'overheidsdomein': 'Landbouw, natuur en voedsel', 'geldigheidsperiode_startdatum': '2024-01-29', 'geldigheidsperiode_einddatum': '9999-12-31', 'zichtperiode_startdatum': '2024-01-29', 'zichtperiode_einddatum': '9999-12-31', 'locatie_toestand': 'https://repository.officiele-overheidspublicaties.nl/bwb/BWBR0045051/2024-01-29_0/xml/BWBR0045051_2024-01-29_0.xml', 'locatie_wti': 'https://repository.officiele-overheidspublicaties.nl/bwb/BWBR0045051/BWBR0045051.WTI', 'locatie_manifest': 'https://repository.officiele-overheidspublicaties.nl/bwb/BWBR0045051/manifest.xml'}\n",
      "FETCHED new data for BWBR0045607 - {'identifier': 'BWBR0045607', 'title': 'Regeling aanvullende bekostiging vo-scholen in uitzonderlijke omstandigheden', 'type': 'ministeriele-regeling', 'language': 'nl', 'authority': 'Onderwijs, Cultuur en Wetenschap', 'creator': 'Ministerie van Binnenlandse Zaken en Koninkrijksrelaties', 'modified': '2024-02-06', 'created': '2024-02-06', 'toestand': 'http://wetten.overheid.nl/id/BWBR0045607/2024-02-02/0', 'rechtsgebied': 'Onderwijsrecht', 'overheidsdomein': 'Onderwijs en wetenschap', 'geldigheidsperiode_startdatum': '2024-02-02', 'geldigheidsperiode_einddatum': '9999-12-31', 'zichtperiode_startdatum': '2024-02-02', 'zichtperiode_einddatum': '9999-12-31', 'locatie_toestand': 'https://repository.officiele-overheidspublicaties.nl/bwb/BWBR0045607/2024-02-02_0/xml/BWBR0045607_2024-02-02_0.xml', 'locatie_wti': 'https://repository.officiele-overheidspublicaties.nl/bwb/BWBR0045607/BWBR0045607.WTI', 'locatie_manifest': 'https://repository.officiele-overheidspublicaties.nl/bwb/BWBR0045607/manifest.xml'}\n",
      "[SRU searchRetrieve] fetching 'http://zoekservice.overheid.nl/sru/Search?&version=1.2&x-connection=BWB&operation=searchRetrieve&startRecord=4501&maximumRecords=500&query=dcterms.modified%20%3E%3D%202024-01-12'\n",
      "FETCHED new data for BWBR0047596 - {'identifier': 'BWBR0047596', 'title': 'Subsidieregeling Verduurzaming voor Verenigingen van Eigenaars', 'type': 'ministeriele-regeling', 'language': 'nl', 'authority': 'Binnenlandse Zaken en Koninkrijksrelaties', 'creator': 'Ministerie van Binnenlandse Zaken en Koninkrijksrelaties', 'modified': '2024-02-09', 'created': '2024-02-09', 'toestand': 'http://wetten.overheid.nl/id/BWBR0047596/2024-01-01/1', 'rechtsgebied': 'Financieel en economisch recht', 'overheidsdomein': 'Financiën', 'geldigheidsperiode_startdatum': '2024-01-01', 'geldigheidsperiode_einddatum': '2024-02-07', 'zichtperiode_startdatum': '2024-02-08', 'zichtperiode_einddatum': '9999-12-31', 'locatie_toestand': 'https://repository.officiele-overheidspublicaties.nl/bwb/BWBR0047596/2024-01-01_1/xml/BWBR0047596_2024-01-01_1.xml', 'locatie_wti': 'https://repository.officiele-overheidspublicaties.nl/bwb/BWBR0047596/BWBR0047596.WTI', 'locatie_manifest': 'https://repository.officiele-overheidspublicaties.nl/bwb/BWBR0047596/manifest.xml'}\n",
      "FETCHED new data for BWBR0047596 - {'identifier': 'BWBR0047596', 'title': 'Subsidieregeling Verduurzaming voor Verenigingen van Eigenaars', 'type': 'ministeriele-regeling', 'language': 'nl', 'authority': 'Binnenlandse Zaken en Koninkrijksrelaties', 'creator': 'Ministerie van Binnenlandse Zaken en Koninkrijksrelaties', 'modified': '2024-02-09', 'created': '2024-02-09', 'toestand': 'http://wetten.overheid.nl/id/BWBR0047596/2024-02-08/0', 'rechtsgebied': 'Financieel en economisch recht', 'overheidsdomein': 'Financiën', 'geldigheidsperiode_startdatum': '2024-02-08', 'geldigheidsperiode_einddatum': '9999-12-31', 'zichtperiode_startdatum': '2024-02-08', 'zichtperiode_einddatum': '9999-12-31', 'locatie_toestand': 'https://repository.officiele-overheidspublicaties.nl/bwb/BWBR0047596/2024-02-08_0/xml/BWBR0047596_2024-02-08_0.xml', 'locatie_wti': 'https://repository.officiele-overheidspublicaties.nl/bwb/BWBR0047596/BWBR0047596.WTI', 'locatie_manifest': 'https://repository.officiele-overheidspublicaties.nl/bwb/BWBR0047596/manifest.xml'}\n",
      "FETCHED new data for BWBR0047689 - {'identifier': 'BWBR0047689', 'title': 'Subsidieregeling JTF 2021–2027', 'type': 'ministeriele-regeling', 'language': 'nl', 'authority': 'Economische Zaken en Klimaat', 'creator': 'Ministerie van Binnenlandse Zaken en Koninkrijksrelaties', 'modified': '2024-02-08', 'created': '2024-02-08', 'toestand': 'http://wetten.overheid.nl/id/BWBR0047689/2024-02-01/0', 'rechtsgebied': 'Bestuursrecht', 'overheidsdomein': 'Overheid, bestuur en koninkrijk', 'geldigheidsperiode_startdatum': '2024-02-01', 'geldigheidsperiode_einddatum': '9999-12-31', 'zichtperiode_startdatum': '2024-02-01', 'zichtperiode_einddatum': '9999-12-31', 'locatie_toestand': 'https://repository.officiele-overheidspublicaties.nl/bwb/BWBR0047689/2024-02-01_0/xml/BWBR0047689_2024-02-01_0.xml', 'locatie_wti': 'https://repository.officiele-overheidspublicaties.nl/bwb/BWBR0047689/BWBR0047689.WTI', 'locatie_manifest': 'https://repository.officiele-overheidspublicaties.nl/bwb/BWBR0047689/manifest.xml'}\n",
      "FETCHED new data for BWBR0049313 - {'identifier': 'BWBR0049313', 'title': 'Wijzigingsbesluit financiële markten 2023', 'type': 'AMvB', 'language': 'nl', 'authority': 'Financiën', 'creator': 'Ministerie van Binnenlandse Zaken en Koninkrijksrelaties', 'modified': '2024-02-06', 'created': '2024-02-06', 'toestand': 'http://wetten.overheid.nl/id/BWBR0049313/2024-01-31/0', 'rechtsgebied': 'Toezicht bank- en kredietwezen', 'overheidsdomein': 'Financiën', 'geldigheidsperiode_startdatum': '2024-01-31', 'geldigheidsperiode_einddatum': '9999-12-31', 'zichtperiode_startdatum': '2024-01-31', 'zichtperiode_einddatum': '9999-12-31', 'locatie_toestand': 'https://repository.officiele-overheidspublicaties.nl/bwb/BWBR0049313/2024-01-31_0/xml/BWBR0049313_2024-01-31_0.xml', 'locatie_wti': 'https://repository.officiele-overheidspublicaties.nl/bwb/BWBR0049313/BWBR0049313.WTI', 'locatie_manifest': 'https://repository.officiele-overheidspublicaties.nl/bwb/BWBR0049313/manifest.xml'}\n",
      "FETCHED new data for BWBR0049319 - {'identifier': 'BWBR0049319', 'title': 'Besluit buitengewoon opsporingsambtenaar Omgevingsdienst Groningen 2024', 'type': 'ministeriele-regeling', 'language': 'nl', 'authority': 'Justitie en Veiligheid', 'creator': 'Ministerie van Binnenlandse Zaken en Koninkrijksrelaties', 'modified': '2024-02-03', 'created': '2024-02-03', 'toestand': 'http://wetten.overheid.nl/id/BWBR0049319/2024-02-01/0', 'rechtsgebied': 'Openbare orde en veiligheidsrecht', 'overheidsdomein': 'Openbare orde en veiligheid', 'geldigheidsperiode_startdatum': '2024-02-01', 'geldigheidsperiode_einddatum': '9999-12-31', 'zichtperiode_startdatum': '2024-02-01', 'zichtperiode_einddatum': '9999-12-31', 'locatie_toestand': 'https://repository.officiele-overheidspublicaties.nl/bwb/BWBR0049319/2024-02-01_0/xml/BWBR0049319_2024-02-01_0.xml', 'locatie_wti': 'https://repository.officiele-overheidspublicaties.nl/bwb/BWBR0049319/BWBR0049319.WTI', 'locatie_manifest': 'https://repository.officiele-overheidspublicaties.nl/bwb/BWBR0049319/manifest.xml'}\n",
      "FETCHED new data for BWBR0049320 - {'identifier': 'BWBR0049320', 'title': 'Regeling specifieke uitkeringen Wet gemeentelijke taak mogelijk maken asielopvangvoorzieningen', 'type': 'ministeriele-regeling', 'language': 'nl', 'authority': 'Justitie en Veiligheid', 'creator': 'Ministerie van Binnenlandse Zaken en Koninkrijksrelaties', 'modified': '2024-02-03', 'created': '2024-02-03', 'toestand': 'http://wetten.overheid.nl/id/BWBR0049320/2024-02-01/0', 'rechtsgebied': 'Vreemdelingenrecht', 'overheidsdomein': 'Immigratie, integratie en inburgering', 'geldigheidsperiode_startdatum': '2024-02-01', 'geldigheidsperiode_einddatum': '9999-12-31', 'zichtperiode_startdatum': '2024-02-01', 'zichtperiode_einddatum': '9999-12-31', 'locatie_toestand': 'https://repository.officiele-overheidspublicaties.nl/bwb/BWBR0049320/2024-02-01_0/xml/BWBR0049320_2024-02-01_0.xml', 'locatie_wti': 'https://repository.officiele-overheidspublicaties.nl/bwb/BWBR0049320/BWBR0049320.WTI', 'locatie_manifest': 'https://repository.officiele-overheidspublicaties.nl/bwb/BWBR0049320/manifest.xml'}\n",
      "FETCHED new data for BWBR0049321 - {'identifier': 'BWBR0049321', 'title': 'Besluit buitengewoon opsporingsambtenaar gemeente Heemstede 2024', 'type': 'ministeriele-regeling', 'language': 'nl', 'authority': 'Justitie en Veiligheid', 'creator': 'Ministerie van Binnenlandse Zaken en Koninkrijksrelaties', 'modified': '2024-02-08', 'created': '2024-02-08', 'toestand': 'http://wetten.overheid.nl/id/BWBR0049321/2024-02-06/0', 'rechtsgebied': 'Openbare orde en veiligheidsrecht', 'overheidsdomein': 'Openbare orde en veiligheid', 'geldigheidsperiode_startdatum': '2024-02-06', 'geldigheidsperiode_einddatum': '9999-12-31', 'zichtperiode_startdatum': '2024-02-06', 'zichtperiode_einddatum': '9999-12-31', 'locatie_toestand': 'https://repository.officiele-overheidspublicaties.nl/bwb/BWBR0049321/2024-02-06_0/xml/BWBR0049321_2024-02-06_0.xml', 'locatie_wti': 'https://repository.officiele-overheidspublicaties.nl/bwb/BWBR0049321/BWBR0049321.WTI', 'locatie_manifest': 'https://repository.officiele-overheidspublicaties.nl/bwb/BWBR0049321/manifest.xml'}\n",
      "FETCHED new data for BWBR0049323 - {'identifier': 'BWBR0049323', 'title': 'Beleidsregel Artikel 6', 'type': 'beleidsregel', 'language': 'nl', 'authority': 'Sociale Zaken en Werkgelegenheid', 'creator': 'Ministerie van Binnenlandse Zaken en Koninkrijksrelaties', 'modified': '2024-02-06', 'created': '2024-02-06', 'toestand': 'http://wetten.overheid.nl/id/BWBR0049323/2024-02-01/0', 'rechtsgebied': 'Arbeidsrecht', 'overheidsdomein': 'Werk- en loopbaan', 'geldigheidsperiode_startdatum': '2024-02-01', 'geldigheidsperiode_einddatum': '9999-12-31', 'zichtperiode_startdatum': '2024-02-01', 'zichtperiode_einddatum': '9999-12-31', 'locatie_toestand': 'https://repository.officiele-overheidspublicaties.nl/bwb/BWBR0049323/2024-02-01_0/xml/BWBR0049323_2024-02-01_0.xml', 'locatie_wti': 'https://repository.officiele-overheidspublicaties.nl/bwb/BWBR0049323/BWBR0049323.WTI', 'locatie_manifest': 'https://repository.officiele-overheidspublicaties.nl/bwb/BWBR0049323/manifest.xml'}\n",
      "FETCHED new data for BWBR0049325 - {'identifier': 'BWBR0049325', 'title': 'Regeling onderwijskansen voortgezet onderwijs', 'type': 'ministeriele-regeling', 'language': 'nl', 'authority': 'Onderwijs, Cultuur en Wetenschap', 'creator': 'Ministerie van Binnenlandse Zaken en Koninkrijksrelaties', 'modified': '2024-02-06', 'created': '2024-02-06', 'toestand': 'http://wetten.overheid.nl/id/BWBR0049325/2024-01-01/1', 'rechtsgebied': 'Onderwijsrecht', 'overheidsdomein': 'Onderwijs en wetenschap', 'geldigheidsperiode_startdatum': '2024-01-01', 'geldigheidsperiode_einddatum': '2024-01-31', 'zichtperiode_startdatum': '2024-02-01', 'zichtperiode_einddatum': '9999-12-31', 'locatie_toestand': 'https://repository.officiele-overheidspublicaties.nl/bwb/BWBR0049325/2024-01-01_1/xml/BWBR0049325_2024-01-01_1.xml', 'locatie_wti': 'https://repository.officiele-overheidspublicaties.nl/bwb/BWBR0049325/BWBR0049325.WTI', 'locatie_manifest': 'https://repository.officiele-overheidspublicaties.nl/bwb/BWBR0049325/manifest.xml'}\n",
      "FETCHED new data for BWBR0049325 - {'identifier': 'BWBR0049325', 'title': 'Regeling onderwijskansen voortgezet onderwijs', 'type': 'ministeriele-regeling', 'language': 'nl', 'authority': 'Onderwijs, Cultuur en Wetenschap', 'creator': 'Ministerie van Binnenlandse Zaken en Koninkrijksrelaties', 'modified': '2024-02-06', 'created': '2024-02-06', 'toestand': 'http://wetten.overheid.nl/id/BWBR0049325/2024-02-01/0', 'rechtsgebied': 'Onderwijsrecht', 'overheidsdomein': 'Onderwijs en wetenschap', 'geldigheidsperiode_startdatum': '2024-02-01', 'geldigheidsperiode_einddatum': '2024-02-01', 'zichtperiode_startdatum': '2024-02-01', 'zichtperiode_einddatum': '9999-12-31', 'locatie_toestand': 'https://repository.officiele-overheidspublicaties.nl/bwb/BWBR0049325/2024-02-01_0/xml/BWBR0049325_2024-02-01_0.xml', 'locatie_wti': 'https://repository.officiele-overheidspublicaties.nl/bwb/BWBR0049325/BWBR0049325.WTI', 'locatie_manifest': 'https://repository.officiele-overheidspublicaties.nl/bwb/BWBR0049325/manifest.xml'}\n",
      "FETCHED new data for BWBR0049325 - {'identifier': 'BWBR0049325', 'title': 'Regeling onderwijskansen voortgezet onderwijs', 'type': 'ministeriele-regeling', 'language': 'nl', 'authority': 'Onderwijs, Cultuur en Wetenschap', 'creator': 'Ministerie van Binnenlandse Zaken en Koninkrijksrelaties', 'modified': '2024-02-06', 'created': '2024-02-06', 'toestand': 'http://wetten.overheid.nl/id/BWBR0049325/2024-02-02/0', 'rechtsgebied': 'Onderwijsrecht', 'overheidsdomein': 'Onderwijs en wetenschap', 'geldigheidsperiode_startdatum': '2024-02-02', 'geldigheidsperiode_einddatum': '9999-12-31', 'zichtperiode_startdatum': '2024-02-02', 'zichtperiode_einddatum': '9999-12-31', 'locatie_toestand': 'https://repository.officiele-overheidspublicaties.nl/bwb/BWBR0049325/2024-02-02_0/xml/BWBR0049325_2024-02-02_0.xml', 'locatie_wti': 'https://repository.officiele-overheidspublicaties.nl/bwb/BWBR0049325/BWBR0049325.WTI', 'locatie_manifest': 'https://repository.officiele-overheidspublicaties.nl/bwb/BWBR0049325/manifest.xml'}\n",
      "FETCHED new data for BWBR0049326 - {'identifier': 'BWBR0049326', 'title': 'Mandaatbesluit kwartiermaker Belangenbehartiger voor Belastingplichtigen en Toeslaggerechtigden', 'type': 'ministeriele-regeling', 'language': 'nl', 'authority': 'Financiën', 'creator': 'Ministerie van Binnenlandse Zaken en Koninkrijksrelaties', 'modified': '2024-02-07', 'created': '2024-02-07', 'toestand': 'http://wetten.overheid.nl/id/BWBR0049326/2023-10-16/1', 'rechtsgebied': 'Bestuursrecht', 'overheidsdomein': 'Overheid, bestuur en koninkrijk', 'geldigheidsperiode_startdatum': '2023-10-16', 'geldigheidsperiode_einddatum': '2024-02-02', 'zichtperiode_startdatum': '2024-02-03', 'zichtperiode_einddatum': '9999-12-31', 'locatie_toestand': 'https://repository.officiele-overheidspublicaties.nl/bwb/BWBR0049326/2023-10-16_1/xml/BWBR0049326_2023-10-16_1.xml', 'locatie_wti': 'https://repository.officiele-overheidspublicaties.nl/bwb/BWBR0049326/BWBR0049326.WTI', 'locatie_manifest': 'https://repository.officiele-overheidspublicaties.nl/bwb/BWBR0049326/manifest.xml'}\n",
      "FETCHED new data for BWBR0049326 - {'identifier': 'BWBR0049326', 'title': 'Mandaatbesluit kwartiermaker Belangenbehartiger voor Belastingplichtigen en Toeslaggerechtigden', 'type': 'ministeriele-regeling', 'language': 'nl', 'authority': 'Financiën', 'creator': 'Ministerie van Binnenlandse Zaken en Koninkrijksrelaties', 'modified': '2024-02-07', 'created': '2024-02-07', 'toestand': 'http://wetten.overheid.nl/id/BWBR0049326/2024-02-03/0', 'rechtsgebied': 'Bestuursrecht', 'overheidsdomein': 'Overheid, bestuur en koninkrijk', 'geldigheidsperiode_startdatum': '2024-02-03', 'geldigheidsperiode_einddatum': '9999-12-31', 'zichtperiode_startdatum': '2024-02-03', 'zichtperiode_einddatum': '9999-12-31', 'locatie_toestand': 'https://repository.officiele-overheidspublicaties.nl/bwb/BWBR0049326/2024-02-03_0/xml/BWBR0049326_2024-02-03_0.xml', 'locatie_wti': 'https://repository.officiele-overheidspublicaties.nl/bwb/BWBR0049326/BWBR0049326.WTI', 'locatie_manifest': 'https://repository.officiele-overheidspublicaties.nl/bwb/BWBR0049326/manifest.xml'}\n",
      "FETCHED new data for BWBR0049327 - {'identifier': 'BWBR0049327', 'title': 'Instellingsbesluit Commissie onderzoek niet-humane primaten', 'type': 'ministeriele-regeling', 'language': 'nl', 'authority': 'Onderwijs, Cultuur en Wetenschap', 'creator': 'Ministerie van Binnenlandse Zaken en Koninkrijksrelaties', 'modified': '2024-02-07', 'created': '2024-02-07', 'toestand': 'http://wetten.overheid.nl/id/BWBR0049327/2023-11-15/1', 'rechtsgebied': 'Ambtenarenrecht', 'overheidsdomein': 'Werk- en loopbaan', 'geldigheidsperiode_startdatum': '2023-11-15', 'geldigheidsperiode_einddatum': '2024-02-05', 'zichtperiode_startdatum': '2024-02-06', 'zichtperiode_einddatum': '9999-12-31', 'locatie_toestand': 'https://repository.officiele-overheidspublicaties.nl/bwb/BWBR0049327/2023-11-15_1/xml/BWBR0049327_2023-11-15_1.xml', 'locatie_wti': 'https://repository.officiele-overheidspublicaties.nl/bwb/BWBR0049327/BWBR0049327.WTI', 'locatie_manifest': 'https://repository.officiele-overheidspublicaties.nl/bwb/BWBR0049327/manifest.xml'}\n",
      "FETCHED new data for BWBR0049327 - {'identifier': 'BWBR0049327', 'title': 'Instellingsbesluit Commissie onderzoek niet-humane primaten', 'type': 'ministeriele-regeling', 'language': 'nl', 'authority': 'Onderwijs, Cultuur en Wetenschap', 'creator': 'Ministerie van Binnenlandse Zaken en Koninkrijksrelaties', 'modified': '2024-02-07', 'created': '2024-02-07', 'toestand': 'http://wetten.overheid.nl/id/BWBR0049327/2024-02-06/0', 'rechtsgebied': 'Ambtenarenrecht', 'overheidsdomein': 'Werk- en loopbaan', 'geldigheidsperiode_startdatum': '2024-02-06', 'geldigheidsperiode_einddatum': '9999-12-31', 'zichtperiode_startdatum': '2024-02-06', 'zichtperiode_einddatum': '9999-12-31', 'locatie_toestand': 'https://repository.officiele-overheidspublicaties.nl/bwb/BWBR0049327/2024-02-06_0/xml/BWBR0049327_2024-02-06_0.xml', 'locatie_wti': 'https://repository.officiele-overheidspublicaties.nl/bwb/BWBR0049327/BWBR0049327.WTI', 'locatie_manifest': 'https://repository.officiele-overheidspublicaties.nl/bwb/BWBR0049327/manifest.xml'}\n",
      "FETCHED new data for BWBR0049328 - {'identifier': 'BWBR0049328', 'title': 'Besluit buitengewoon opsporingsambtenaar gemeente Bloemendaal 2024', 'type': 'ministeriele-regeling', 'language': 'nl', 'authority': 'Justitie en Veiligheid', 'creator': 'Ministerie van Binnenlandse Zaken en Koninkrijksrelaties', 'modified': '2024-02-08', 'created': '2024-02-08', 'toestand': 'http://wetten.overheid.nl/id/BWBR0049328/2024-02-06/0', 'rechtsgebied': 'Openbare orde en veiligheidsrecht', 'overheidsdomein': 'Openbare orde en veiligheid', 'geldigheidsperiode_startdatum': '2024-02-06', 'geldigheidsperiode_einddatum': '9999-12-31', 'zichtperiode_startdatum': '2024-02-06', 'zichtperiode_einddatum': '9999-12-31', 'locatie_toestand': 'https://repository.officiele-overheidspublicaties.nl/bwb/BWBR0049328/2024-02-06_0/xml/BWBR0049328_2024-02-06_0.xml', 'locatie_wti': 'https://repository.officiele-overheidspublicaties.nl/bwb/BWBR0049328/BWBR0049328.WTI', 'locatie_manifest': 'https://repository.officiele-overheidspublicaties.nl/bwb/BWBR0049328/manifest.xml'}\n",
      "FETCHED new data for BWBR0049329 - {'identifier': 'BWBR0049329', 'title': 'Besluit mandaat en machtiging Vanberkel Professionals', 'type': 'ministeriele-regeling', 'language': 'nl', 'authority': 'Infrastructuur en Waterstaat', 'creator': 'Ministerie van Binnenlandse Zaken en Koninkrijksrelaties', 'modified': '2024-02-07', 'created': '2024-02-07', 'toestand': 'http://wetten.overheid.nl/id/BWBR0049329/2024-02-06/0', 'rechtsgebied': 'Bestuursrecht', 'overheidsdomein': 'Overheid, bestuur en koninkrijk', 'geldigheidsperiode_startdatum': '2024-02-06', 'geldigheidsperiode_einddatum': '9999-12-31', 'zichtperiode_startdatum': '2024-02-06', 'zichtperiode_einddatum': '9999-12-31', 'locatie_toestand': 'https://repository.officiele-overheidspublicaties.nl/bwb/BWBR0049329/2024-02-06_0/xml/BWBR0049329_2024-02-06_0.xml', 'locatie_wti': 'https://repository.officiele-overheidspublicaties.nl/bwb/BWBR0049329/BWBR0049329.WTI', 'locatie_manifest': 'https://repository.officiele-overheidspublicaties.nl/bwb/BWBR0049329/manifest.xml'}\n",
      "FETCHED new data for BWBR0049330 - {'identifier': 'BWBR0049330', 'title': 'Organisatie-, mandaat- en volmachtbesluit Rijksschoonmaakorganisatie 2023 (OMV RSO 2023)', 'type': 'ministeriele-regeling', 'language': 'nl', 'authority': 'Sociale Zaken en Werkgelegenheid', 'creator': 'Ministerie van Binnenlandse Zaken en Koninkrijksrelaties', 'modified': '2024-02-08', 'created': '2024-02-08', 'toestand': 'http://wetten.overheid.nl/id/BWBR0049330/2023-01-01/1', 'rechtsgebied': 'Staatsrecht', 'overheidsdomein': 'Overheid, bestuur en koninkrijk', 'geldigheidsperiode_startdatum': '2023-01-01', 'geldigheidsperiode_einddatum': '2024-02-06', 'zichtperiode_startdatum': '2024-02-07', 'zichtperiode_einddatum': '9999-12-31', 'locatie_toestand': 'https://repository.officiele-overheidspublicaties.nl/bwb/BWBR0049330/2023-01-01_1/xml/BWBR0049330_2023-01-01_1.xml', 'locatie_wti': 'https://repository.officiele-overheidspublicaties.nl/bwb/BWBR0049330/BWBR0049330.WTI', 'locatie_manifest': 'https://repository.officiele-overheidspublicaties.nl/bwb/BWBR0049330/manifest.xml'}\n",
      "FETCHED new data for BWBR0049330 - {'identifier': 'BWBR0049330', 'title': 'Organisatie-, mandaat- en volmachtbesluit Rijksschoonmaakorganisatie 2023 (OMV RSO 2023)', 'type': 'ministeriele-regeling', 'language': 'nl', 'authority': 'Sociale Zaken en Werkgelegenheid', 'creator': 'Ministerie van Binnenlandse Zaken en Koninkrijksrelaties', 'modified': '2024-02-08', 'created': '2024-02-08', 'toestand': 'http://wetten.overheid.nl/id/BWBR0049330/2024-02-07/0', 'rechtsgebied': 'Staatsrecht', 'overheidsdomein': 'Overheid, bestuur en koninkrijk', 'geldigheidsperiode_startdatum': '2024-02-07', 'geldigheidsperiode_einddatum': '9999-12-31', 'zichtperiode_startdatum': '2024-02-07', 'zichtperiode_einddatum': '9999-12-31', 'locatie_toestand': 'https://repository.officiele-overheidspublicaties.nl/bwb/BWBR0049330/2024-02-07_0/xml/BWBR0049330_2024-02-07_0.xml', 'locatie_wti': 'https://repository.officiele-overheidspublicaties.nl/bwb/BWBR0049330/BWBR0049330.WTI', 'locatie_manifest': 'https://repository.officiele-overheidspublicaties.nl/bwb/BWBR0049330/manifest.xml'}\n",
      "FETCHED new data for BWBR0049331 - {'identifier': 'BWBR0049331', 'title': 'Toezichtkader CO-stelsel', 'type': 'zbo', 'language': 'nl', 'authority': 'Toelatingsorganisatie Kwaliteitsborging Bouw', 'creator': 'Ministerie van Binnenlandse Zaken en Koninkrijksrelaties', 'modified': '2024-02-09', 'created': '2024-02-09', 'toestand': 'http://wetten.overheid.nl/id/BWBR0049331/2024-02-06/0', 'rechtsgebied': 'Bouwrecht', 'overheidsdomein': 'Bouwen, wonen en leefomgeving', 'geldigheidsperiode_startdatum': '2024-02-06', 'geldigheidsperiode_einddatum': '9999-12-31', 'zichtperiode_startdatum': '2024-02-06', 'zichtperiode_einddatum': '9999-12-31', 'locatie_toestand': 'https://repository.officiele-overheidspublicaties.nl/bwb/BWBR0049331/2024-02-06_0/xml/BWBR0049331_2024-02-06_0.xml', 'locatie_wti': 'https://repository.officiele-overheidspublicaties.nl/bwb/BWBR0049331/BWBR0049331.WTI', 'locatie_manifest': 'https://repository.officiele-overheidspublicaties.nl/bwb/BWBR0049331/manifest.xml'}\n",
      "FETCHED new data for BWBR0049336 - {'identifier': 'BWBR0049336', 'title': 'Vrijstelling Permanent Stalspuitmiddel tegen knutten 2024', 'type': 'ministeriele-regeling', 'language': 'nl', 'authority': 'Landbouw, Natuur en Voedselkwaliteit', 'creator': 'Ministerie van Binnenlandse Zaken en Koninkrijksrelaties', 'modified': '2024-02-09', 'created': '2024-02-09', 'toestand': 'http://wetten.overheid.nl/id/BWBR0049336/2024-01-01/1', 'rechtsgebied': 'Agrarisch recht', 'overheidsdomein': 'Landbouw, natuur en voedsel', 'geldigheidsperiode_startdatum': '2024-01-01', 'geldigheidsperiode_einddatum': '2024-02-07', 'zichtperiode_startdatum': '2024-02-08', 'zichtperiode_einddatum': '9999-12-31', 'locatie_toestand': 'https://repository.officiele-overheidspublicaties.nl/bwb/BWBR0049336/2024-01-01_1/xml/BWBR0049336_2024-01-01_1.xml', 'locatie_wti': 'https://repository.officiele-overheidspublicaties.nl/bwb/BWBR0049336/BWBR0049336.WTI', 'locatie_manifest': 'https://repository.officiele-overheidspublicaties.nl/bwb/BWBR0049336/manifest.xml'}\n",
      "FETCHED new data for BWBR0049336 - {'identifier': 'BWBR0049336', 'title': 'Vrijstelling Permanent Stalspuitmiddel tegen knutten 2024', 'type': 'ministeriele-regeling', 'language': 'nl', 'authority': 'Landbouw, Natuur en Voedselkwaliteit', 'creator': 'Ministerie van Binnenlandse Zaken en Koninkrijksrelaties', 'modified': '2024-02-09', 'created': '2024-02-09', 'toestand': 'http://wetten.overheid.nl/id/BWBR0049336/2024-02-08/0', 'rechtsgebied': 'Agrarisch recht', 'overheidsdomein': 'Landbouw, natuur en voedsel', 'geldigheidsperiode_startdatum': '2024-02-08', 'geldigheidsperiode_einddatum': '9999-12-31', 'zichtperiode_startdatum': '2024-02-08', 'zichtperiode_einddatum': '9999-12-31', 'locatie_toestand': 'https://repository.officiele-overheidspublicaties.nl/bwb/BWBR0049336/2024-02-08_0/xml/BWBR0049336_2024-02-08_0.xml', 'locatie_wti': 'https://repository.officiele-overheidspublicaties.nl/bwb/BWBR0049336/BWBR0049336.WTI', 'locatie_manifest': 'https://repository.officiele-overheidspublicaties.nl/bwb/BWBR0049336/manifest.xml'}\n",
      "FETCHED new data for BWBR0049337 - {'identifier': 'BWBR0049337', 'title': 'Instellingsbesluit Commissie Evaluatie puntentoekenning gesubsidieerde rechtsbijstand II', 'type': 'ministeriele-regeling', 'language': 'nl', 'authority': 'Justitie en Veiligheid', 'creator': 'Ministerie van Binnenlandse Zaken en Koninkrijksrelaties', 'modified': '2024-02-09', 'created': '2024-02-09', 'toestand': 'http://wetten.overheid.nl/id/BWBR0049337/2024-01-01/1', 'rechtsgebied': 'Bestuursrecht', 'overheidsdomein': 'Overheid, bestuur en koninkrijk', 'geldigheidsperiode_startdatum': '2024-01-01', 'geldigheidsperiode_einddatum': '2024-02-08', 'zichtperiode_startdatum': '2024-02-09', 'zichtperiode_einddatum': '9999-12-31', 'locatie_toestand': 'https://repository.officiele-overheidspublicaties.nl/bwb/BWBR0049337/2024-01-01_1/xml/BWBR0049337_2024-01-01_1.xml', 'locatie_wti': 'https://repository.officiele-overheidspublicaties.nl/bwb/BWBR0049337/BWBR0049337.WTI', 'locatie_manifest': 'https://repository.officiele-overheidspublicaties.nl/bwb/BWBR0049337/manifest.xml'}\n",
      "FETCHED new data for BWBR0049337 - {'identifier': 'BWBR0049337', 'title': 'Instellingsbesluit Commissie Evaluatie puntentoekenning gesubsidieerde rechtsbijstand II', 'type': 'ministeriele-regeling', 'language': 'nl', 'authority': 'Justitie en Veiligheid', 'creator': 'Ministerie van Binnenlandse Zaken en Koninkrijksrelaties', 'modified': '2024-02-09', 'created': '2024-02-09', 'toestand': 'http://wetten.overheid.nl/id/BWBR0049337/2024-02-09/0', 'rechtsgebied': 'Bestuursrecht', 'overheidsdomein': 'Overheid, bestuur en koninkrijk', 'geldigheidsperiode_startdatum': '2024-02-09', 'geldigheidsperiode_einddatum': '9999-12-31', 'zichtperiode_startdatum': '2024-02-09', 'zichtperiode_einddatum': '9999-12-31', 'locatie_toestand': 'https://repository.officiele-overheidspublicaties.nl/bwb/BWBR0049337/2024-02-09_0/xml/BWBR0049337_2024-02-09_0.xml', 'locatie_wti': 'https://repository.officiele-overheidspublicaties.nl/bwb/BWBR0049337/BWBR0049337.WTI', 'locatie_manifest': 'https://repository.officiele-overheidspublicaties.nl/bwb/BWBR0049337/manifest.xml'}\n",
      "FETCHED new data for BWBV0002911 - {'identifier': 'BWBV0002911', 'title': 'Internationaal Verdrag inzake de uitbanning van alle vormen van rassendiscriminatie', 'type': 'verdrag', 'language': 'nl', 'authority': 'Buitenlandse Zaken', 'creator': 'Ministerie van Binnenlandse Zaken en Koninkrijksrelaties', 'modified': '2024-02-09', 'created': '2015-07-02', 'toestand': 'http://wetten.overheid.nl/id/BWBV0002911/1972-01-09/0', 'rechtsgebied': 'Internationaal strafrecht', 'onderwerpVerdrag': 'Strafrecht', 'geldigheidsperiode_startdatum': '1972-01-09', 'geldigheidsperiode_einddatum': '9999-12-31', 'zichtperiode_startdatum': '1972-01-09', 'zichtperiode_einddatum': '9999-12-31', 'locatie_toestand': 'https://repository.officiele-overheidspublicaties.nl/bwb/BWBV0002911/1972-01-09_0/xml/BWBV0002911_1972-01-09_0.xml', 'locatie_wti': 'https://repository.officiele-overheidspublicaties.nl/bwb/BWBV0002911/BWBV0002911.WTI', 'locatie_manifest': 'https://repository.officiele-overheidspublicaties.nl/bwb/BWBV0002911/manifest.xml'}\n",
      "FETCHED new data for BWBV0003241 - {'identifier': 'BWBV0003241', 'title': 'Internationaal Verdrag ter voorkoming van verontreiniging door schepen, 1973, zoals gewijzigd door het Protocol van 1978 daarbij', 'type': 'verdrag', 'language': 'nl', 'authority': 'Buitenlandse Zaken', 'creator': 'Ministerie van Binnenlandse Zaken en Koninkrijksrelaties', 'modified': '2024-02-09', 'created': '2024-02-09', 'toestand': 'http://wetten.overheid.nl/id/BWBV0003241/2023-11-01/0', 'rechtsgebied': 'Vervoersrecht', 'onderwerpVerdrag': 'Water', 'geldigheidsperiode_startdatum': '2023-11-01', 'geldigheidsperiode_einddatum': '2023-12-31', 'zichtperiode_startdatum': '2023-11-01', 'zichtperiode_einddatum': '9999-12-31', 'locatie_toestand': 'https://repository.officiele-overheidspublicaties.nl/bwb/BWBV0003241/2023-11-01_0/xml/BWBV0003241_2023-11-01_0.xml', 'locatie_wti': 'https://repository.officiele-overheidspublicaties.nl/bwb/BWBV0003241/BWBV0003241.WTI', 'locatie_manifest': 'https://repository.officiele-overheidspublicaties.nl/bwb/BWBV0003241/manifest.xml'}\n",
      "FETCHED new data for BWBV0003241 - {'identifier': 'BWBV0003241', 'title': 'Internationaal Verdrag ter voorkoming van verontreiniging door schepen, 1973, zoals gewijzigd door het Protocol van 1978 daarbij', 'type': 'verdrag', 'language': 'nl', 'authority': 'Buitenlandse Zaken', 'creator': 'Ministerie van Binnenlandse Zaken en Koninkrijksrelaties', 'modified': '2024-02-09', 'created': '2024-02-09', 'toestand': 'http://wetten.overheid.nl/id/BWBV0003241/2024-01-01/0', 'rechtsgebied': 'Vervoersrecht', 'onderwerpVerdrag': 'Water', 'geldigheidsperiode_startdatum': '2024-01-01', 'geldigheidsperiode_einddatum': '9999-12-31', 'zichtperiode_startdatum': '2024-01-01', 'zichtperiode_einddatum': '9999-12-31', 'locatie_toestand': 'https://repository.officiele-overheidspublicaties.nl/bwb/BWBV0003241/2024-01-01_0/xml/BWBV0003241_2024-01-01_0.xml', 'locatie_wti': 'https://repository.officiele-overheidspublicaties.nl/bwb/BWBV0003241/BWBV0003241.WTI', 'locatie_manifest': 'https://repository.officiele-overheidspublicaties.nl/bwb/BWBV0003241/manifest.xml'}\n",
      "FETCHED new data for BWBV0003243 - {'identifier': 'BWBV0003243', 'title': 'Verdrag inzake het vergemakkelijken van het internationale verkeer ter zee', 'type': 'verdrag', 'language': 'nl', 'authority': 'Buitenlandse Zaken', 'creator': 'Ministerie van Binnenlandse Zaken en Koninkrijksrelaties', 'modified': '2024-02-08', 'created': '2024-02-08', 'toestand': 'http://wetten.overheid.nl/id/BWBV0003243/2024-01-01/0', 'rechtsgebied': 'Vervoersrecht', 'onderwerpVerdrag': 'Visa en reisdocumenten', 'geldigheidsperiode_startdatum': '2024-01-01', 'geldigheidsperiode_einddatum': '9999-12-31', 'zichtperiode_startdatum': '2024-01-01', 'zichtperiode_einddatum': '9999-12-31', 'locatie_toestand': 'https://repository.officiele-overheidspublicaties.nl/bwb/BWBV0003243/2024-01-01_0/xml/BWBV0003243_2024-01-01_0.xml', 'locatie_wti': 'https://repository.officiele-overheidspublicaties.nl/bwb/BWBV0003243/BWBV0003243.WTI', 'locatie_manifest': 'https://repository.officiele-overheidspublicaties.nl/bwb/BWBV0003243/manifest.xml'}\n",
      "FETCHED new data for BWBV0003441 - {'identifier': 'BWBV0003441', 'title': 'Verdrag van Wenen inzake het verdragenrecht', 'type': 'verdrag', 'language': 'nl', 'authority': 'Buitenlandse Zaken', 'creator': 'Ministerie van Binnenlandse Zaken en Koninkrijksrelaties', 'modified': '2024-02-09', 'created': '2015-07-01', 'toestand': 'http://wetten.overheid.nl/id/BWBV0003441/1985-05-09/0', 'rechtsgebied': 'Internationaal publiekrecht', 'onderwerpVerdrag': 'Verdragenrecht', 'geldigheidsperiode_startdatum': '1985-05-09', 'geldigheidsperiode_einddatum': '9999-12-31', 'zichtperiode_startdatum': '1985-05-09', 'zichtperiode_einddatum': '9999-12-31', 'locatie_toestand': 'https://repository.officiele-overheidspublicaties.nl/bwb/BWBV0003441/1985-05-09_0/xml/BWBV0003441_1985-05-09_0.xml', 'locatie_wti': 'https://repository.officiele-overheidspublicaties.nl/bwb/BWBV0003441/BWBV0003441.WTI', 'locatie_manifest': 'https://repository.officiele-overheidspublicaties.nl/bwb/BWBV0003441/manifest.xml'}\n",
      "FETCHED new data for BWBV0007033 - {'identifier': 'BWBV0007033', 'title': 'Kaderverdrag van de Raad van Europa inzake de waarde van cultureel erfgoed voor de samenleving', 'type': 'verdrag', 'language': 'nl', 'authority': 'Buitenlandse Zaken', 'creator': 'Ministerie van Binnenlandse Zaken en Koninkrijksrelaties', 'modified': '2024-02-07', 'created': '2024-02-07', 'toestand': 'http://wetten.overheid.nl/id/BWBV0007033/2005-10-27/0', 'rechtsgebied': 'Cultureel recht', 'onderwerpVerdrag': 'Cultuur', 'geldigheidsperiode_startdatum': '2005-10-27', 'geldigheidsperiode_einddatum': '9999-12-31', 'zichtperiode_startdatum': '2005-10-27', 'zichtperiode_einddatum': '9999-12-31', 'locatie_toestand': 'https://repository.officiele-overheidspublicaties.nl/bwb/BWBV0007033/2005-10-27_0/xml/BWBV0007033_2005-10-27_0.xml', 'locatie_wti': 'https://repository.officiele-overheidspublicaties.nl/bwb/BWBV0007033/BWBV0007033.WTI', 'locatie_manifest': 'https://repository.officiele-overheidspublicaties.nl/bwb/BWBV0007033/manifest.xml'}\n",
      "FETCHED new data for BWBV0007034 - {'identifier': 'BWBV0007034', 'title': 'Verdrag tussen het Koninkrijk der Nederlanden en de Republiek Ivoorkust betreffende de status van het personeel van het Ministerie van Defensie van het Koninkrijk der Nederlanden dat zich op het Ivoriaanse grondgebied bevindt in het kader van militaire activiteiten', 'type': 'verdrag', 'language': 'nl', 'authority': 'Buitenlandse Zaken', 'creator': 'Ministerie van Binnenlandse Zaken en Koninkrijksrelaties', 'modified': '2024-02-07', 'created': '2024-02-07', 'toestand': 'http://wetten.overheid.nl/id/BWBV0007034/2024-01-08/0', 'rechtsgebied': 'Militair recht', 'onderwerpVerdrag': 'Militair', 'geldigheidsperiode_startdatum': '2024-01-08', 'geldigheidsperiode_einddatum': '9999-12-31', 'zichtperiode_startdatum': '2024-01-08', 'zichtperiode_einddatum': '9999-12-31', 'locatie_toestand': 'https://repository.officiele-overheidspublicaties.nl/bwb/BWBV0007034/2024-01-08_0/xml/BWBV0007034_2024-01-08_0.xml', 'locatie_wti': 'https://repository.officiele-overheidspublicaties.nl/bwb/BWBV0007034/BWBV0007034.WTI', 'locatie_manifest': 'https://repository.officiele-overheidspublicaties.nl/bwb/BWBV0007034/manifest.xml'}\n"
     ]
    }
   ],
   "source": [
    "def bwb_search_callback( search_record_node ):\n",
    "    ''' BWB records follow http://standaarden.overheid.nl/sru/gzd.xsd\n",
    "        \n",
    "        Right now we merge all the parts of a record into one dict, \n",
    "            which throws away some structure (on top of the already removed namespaces)\n",
    "            but is easier to deal with.\n",
    "    '''\n",
    "    #print( wetsuite.helpers.etree.debug_pretty( record ) ) # for later reference, if you want to extract more out of these search records\n",
    "    meta_dict = wetsuite.helpers.koop_parse.bwb_searchresult_meta( search_record_node )\n",
    "\n",
    "    # toestand XML\n",
    "    _, toestand_came_from_cache = wetsuite.helpers.localdata.cached_fetch( bwb_fetched,  meta_dict['locatie_toestand'],  force_refetch=False )\n",
    "\n",
    "    # manifest and WTI - assume these probably changed (so need to be refetched) if we got a toestand we didn't previously have\n",
    "    force_refetch_meta = (not toestand_came_from_cache)     \n",
    "    _, man_cached = wetsuite.helpers.localdata.cached_fetch( bwb_fetched,  meta_dict['locatie_manifest'],  force_refetch=force_refetch_meta )\n",
    "    _, wti_cached = wetsuite.helpers.localdata.cached_fetch( bwb_fetched,  meta_dict['locatie_wti'],       force_refetch=force_refetch_meta )\n",
    "\n",
    "    if (not toestand_came_from_cache or not man_cached or not wti_cached): # fetched anything new? Mention that.\n",
    "        print( \"FETCHED new data for %s - %r\"%( meta_dict['identifier'], meta_dict ) )\n",
    "\n",
    "\n",
    "# This is a \"add recent changes\", after previously haveing done a lot more fetching\n",
    "sru_bwb = wetsuite.datacollect.koop_repositories.BWB( verbose=True )\n",
    "_ = sru_bwb.search_retrieve_many('dcterms.modified >= %s'%( wetsuite.helpers.date.date_weeks_ago(4).strftime('%Y-%m-%d') ),\n",
    "                                 up_to=20000, at_a_time=500, callback=bwb_search_callback)"
   ]
  },
  {
   "cell_type": "markdown",
   "metadata": {},
   "source": [
    "## Take that downloaded store, extract useful things into datasets\n",
    "\n",
    "CONSIDER: smaller subset to start with, e.g. just 2023"
   ]
  },
  {
   "cell_type": "code",
   "execution_count": 4,
   "metadata": {},
   "outputs": [
    {
     "name": "stdout",
     "output_type": "stream",
     "text": [
      "Grouping relevant URLs\n"
     ]
    },
    {
     "data": {
      "application/json": {
       "ascii": false,
       "bar_format": null,
       "colour": null,
       "elapsed": 0.01222848892211914,
       "initial": 0,
       "n": 0,
       "ncols": null,
       "nrows": null,
       "postfix": null,
       "prefix": "",
       "rate": null,
       "total": 207336,
       "unit": "it",
       "unit_divisor": 1000,
       "unit_scale": false
      },
      "application/vnd.jupyter.widget-view+json": {
       "model_id": "40e6c2e146be43869cb7210ba68b7d4f",
       "version_major": 2,
       "version_minor": 0
      },
      "text/plain": [
       "  0%|          | 0/207336 [00:00<?, ?it/s]"
      ]
     },
     "metadata": {},
     "output_type": "display_data"
    },
    {
     "name": "stdout",
     "output_type": "stream",
     "text": [
      "We have 37822 Unique BWB-id groups\n",
      "Finding latest versions of each\n"
     ]
    },
    {
     "data": {
      "application/json": {
       "ascii": false,
       "bar_format": null,
       "colour": null,
       "elapsed": 0.009897947311401367,
       "initial": 0,
       "n": 0,
       "ncols": null,
       "nrows": null,
       "postfix": null,
       "prefix": "",
       "rate": null,
       "total": 37822,
       "unit": "it",
       "unit_divisor": 1000,
       "unit_scale": false
      },
      "application/vnd.jupyter.widget-view+json": {
       "model_id": "615d463dffc241c0ad5228cde49fef0c",
       "version_major": 2,
       "version_minor": 0
      },
      "text/plain": [
       "  0%|          | 0/37822 [00:00<?, ?it/s]"
      ]
     },
     "metadata": {},
     "output_type": "display_data"
    }
   ],
   "source": [
    "# go through all fetched URLS and group   manifest, wti, and all toestand,   per BWB-id\n",
    "# assume URL structure is consistent, which they seem to be.\n",
    "\n",
    "bwbr_groups = collections.defaultdict(dict)  #  bwbr -> { toestanden:   latest_toestand:    wti:    manifest:  }\n",
    "\n",
    "print(\"Grouping relevant URLs\")\n",
    "\n",
    "for url in wetsuite.helpers.notebook.ProgressBar( bwb_fetched.keys() ):\n",
    "\n",
    "    # both filters for basic URLs we care about at all (in case other things got dropped in),\n",
    "    # and filters for URLs with BWBR  - which implies skipping BWBV (verdragen/treaties), BWBW (?)\n",
    "    # (the matching here and below is a little hacky, though, clean up?)\n",
    "    bwbr = re.search('/bwb/(BWBR[0-9]{7})', url)\n",
    "    if bwbr is not None:\n",
    "        bwbr = bwbr.groups()[0] # the BWBR-and-number text\n",
    "\n",
    "        if url.endswith('manifest.xml'): # e.g. https://repository.officiele-overheidspublicaties.nl/bwb/BWBR0019805/manifest.xml\n",
    "            bwbr_groups[bwbr]['manifest_url'] = url\n",
    "            continue\n",
    "\n",
    "        if url.endswith('.WTI'):         # e.g.  https://repository.officiele-overheidspublicaties.nl/bwb/BWBR0016700/BWBR0016700.WTI\n",
    "            bwbr_groups[bwbr]['wti_url'] = url\n",
    "            continue\n",
    "\n",
    "        toestand_match =  re.search('/bwb/(BWBR[0-9]{7})(/[0-9].*[.]xml)', url) \n",
    "        if toestand_match is not None: # e.g. #https://repository.officiele-overheidspublicaties.nl/bwb/BWBR0001840/2002-03-21_0/xml/BWBR0001840_2002-03-21_0.xml\n",
    "            _, sortname = toestand_match.groups() # assume that date is lexically sortable\n",
    "            # those will be something like 'BWBR0001821'  and  '/1998-01-01_0/xml/BWBR0001821_1998-01-01_0.xml'\n",
    "            if 'toestanden' not in bwbr_groups[bwbr]:\n",
    "                bwbr_groups[bwbr]['toestanden'] = []\n",
    "            bwbr_groups[bwbr]['toestanden'].append( (sortname,url) )\n",
    "            continue\n",
    "        \n",
    "        print( \"SKIP / LOOKAT   %s\"%url )\n",
    "\n",
    "\n",
    "print( 'We have %d Unique BWB-id groups'%len(bwbr_groups) )\n",
    "\n",
    "\n",
    "print( \"Finding latest versions of each\" )\n",
    "for bwbr, details in wetsuite.helpers.notebook.ProgressBar( list( bwbr_groups.items() ) ): # within each BWB-id\n",
    "    for key, url in sorted( details['toestanden'], reverse=True ): # latest first, then use only the first\n",
    "        bwbr_groups[bwbr]['latest_toestand_url'] = url\n",
    "        break"
   ]
  },
  {
   "cell_type": "code",
   "execution_count": 5,
   "metadata": {},
   "outputs": [
    {
     "name": "stdout",
     "output_type": "stream",
     "text": [
      "Writing latest-toestand-XML dataset\n"
     ]
    },
    {
     "data": {
      "application/json": {
       "ascii": false,
       "bar_format": null,
       "colour": null,
       "elapsed": 0.009872674942016602,
       "initial": 0,
       "n": 0,
       "ncols": null,
       "nrows": null,
       "postfix": null,
       "prefix": "",
       "rate": null,
       "total": 37806,
       "unit": "it",
       "unit_divisor": 1000,
       "unit_scale": false
      },
      "application/vnd.jupyter.widget-view+json": {
       "model_id": "636d664e299c4373ad21dfea1fd694dd",
       "version_major": 2,
       "version_minor": 0
      },
      "text/plain": [
       "  0%|          | 0/37806 [00:00<?, ?it/s]"
      ]
     },
     "metadata": {},
     "output_type": "display_data"
    },
    {
     "name": "stdout",
     "output_type": "stream",
     "text": [
      "Parsing further metadata, writing meta and text datasets\n"
     ]
    },
    {
     "data": {
      "application/json": {
       "ascii": false,
       "bar_format": null,
       "colour": null,
       "elapsed": 0.009593486785888672,
       "initial": 0,
       "n": 0,
       "ncols": null,
       "nrows": null,
       "postfix": null,
       "prefix": "",
       "rate": null,
       "total": 37806,
       "unit": "it",
       "unit_divisor": 1000,
       "unit_scale": false
      },
      "application/vnd.jupyter.widget-view+json": {
       "model_id": "703efb1fb87945358909f53bdccb5c5d",
       "version_major": 2,
       "version_minor": 0
      },
      "text/plain": [
       "  0%|          | 0/37806 [00:00<?, ?it/s]"
      ]
     },
     "metadata": {},
     "output_type": "display_data"
    }
   ],
   "source": [
    "# Now do some extraction and also make that datasets\n",
    "# ...keep mind mind that all the extraction could use some refinement.\n",
    "\n",
    "bwb_latestonly_xml = wetsuite.helpers.localdata.LocalKV( 'bwb-mostrecent-xml.db', str, bytes ) # bwbr -> xmlbytes\n",
    "bwb_latestonly_xml._put_meta('description_short',\n",
    "                             'Raw XML for the latest revision from each BWB-id')\n",
    "bwb_latestonly_xml._put_meta('description','''\n",
    "Maps from the BWB-id to the XML file as a bytestring, e.g. \n",
    "\n",
    "'BWBR0019090' -> b'<?xml version=\"1.0\" encoding=\"UTF-8\"?><toestand xmlns...'\n",
    "\n",
    "'''+wetsuite.datasets.generated_today_text())\n",
    "\n",
    "bwb_latestonly_text = wetsuite.helpers.localdata.LocalKV( 'bwb-mostrecent-text.db', str, str )\n",
    "bwb_latestonly_text._put_meta('description_short',\n",
    "                             'Plain text for the latest revision from each BWB-id')\n",
    "bwb_latestonly_text._put_meta('description','''\n",
    "Maps from the BWB-id to plain text without any of the structure.\n",
    "                               \n",
    "'BWBR0025942': 'De bij dit besluit gevoegde ‘ selectielijst voor de neerslag...'\n",
    "                              \n",
    "'''+wetsuite.datasets.generated_today_text())\n",
    "\n",
    "bwb_latestonly_meta = wetsuite.helpers.localdata.MsgpackKV( 'bwb-mostrecent-meta-struc.db', str, None )\n",
    "bwb_latestonly_meta._put_meta('description_short',\n",
    "                             'Metadata structure text for the latest revision from each BWB-id')\n",
    "bwb_latestonly_meta._put_meta('description','''\n",
    "Maps from the BWB-id to metadata,\n",
    "where that metadata comes from the toestand itself, from the manifest file, and from the Wetstechnische informatie (WTI) file. \n",
    "\n",
    "For example:                              \n",
    "                              \n",
    "'BWBR0017744':{\n",
    "  'bwb-id': 'BWBR0017744',\n",
    "  'intitule': 'Regeling inzake de bijdragen van de gebruikers in de kosten van de landelijk raadpleegbare deelverzameling GBA (Bijdragenregeling LRD)',\n",
    "  'citeertitel': 'Bijdragenregeling LRD ',\n",
    "  'soort': 'ministeriele-regeling',\n",
    "  'inwerkingtredingsdatum': '2005-01-01',\n",
    "  'latest_toestand_url': 'https://repository.officiele-overheidspublicaties.nl/bwb/BWBR0017744/2005-01-01_0/xml/BWBR0017744_2005-01-01_0.xml',\n",
    "  'wti_url': 'https://repository.officiele-overheidspublicaties.nl/bwb/BWBR0017744/BWBR0017744.WTI',\n",
    "  'wti': {'algemene_informatie': {'citeertitels_withdate': [['2005-01-01',\n",
    "      '9999-12-31',\n",
    "      'Bijdragenregeling LRD ']],\n",
    "    'citeertitels_distinct': ['Bijdragenregeling LRD '],\n",
    "    'eerstverantwoordelijke': 'Binnenlandse Zaken en Koninkrijksrelaties',\n",
    "    'identificatienummer': 'BWBR0017744',\n",
    "    'rechtsgebieden': [['Openbare orde en veiligheidsrecht', None]],\n",
    "    'overheidsdomeinen': ['Openbare orde en veiligheid']},\n",
    "   'related': [['grondslagen',\n",
    "     'BWBR0006933',\n",
    "     'jci1.3:c:BWBR0006933&artikel=6',\n",
    "     'Artikel 6, achtste lid'],\n",
    "  ...\n",
    "\n",
    "'''+wetsuite.datasets.generated_today_text())\n",
    "\n",
    "\n",
    "print(\"Writing latest-toestand-XML dataset\")\n",
    "\n",
    "for bwbr, details in wetsuite.helpers.notebook.ProgressBar( bwbr_groups.items() ): # within each BWB-id\n",
    "    bwb_latestonly_xml.put(bwbr, bwb_fetched.get( details['latest_toestand_url'] ), commit=False) # postponed commit makes this much faster\n",
    "bwb_latestonly_xml.commit()\n",
    "\n",
    "\n",
    "print(\"Parsing further metadata, writing meta and text datasets\")\n",
    "\n",
    "#for bwbr, details in wetsuite.helpers.notebook.ProgressBar( random.sample( list(bwbr_groups.items()), 100) ): # debug: test on a few\n",
    "for bwbr, details in wetsuite.helpers.notebook.ProgressBar( bwbr_groups.items() ): # within each BWB-id\n",
    "\n",
    "    toestand_tree = wetsuite.helpers.etree.fromstring( bwb_fetched.get( details['latest_toestand_url'] ) )\n",
    "    text          = wetsuite.helpers.koop_parse.bwb_toestand_text(toestand_tree)\n",
    "\n",
    "    meta_dict     = wetsuite.helpers.koop_parse.bwb_toestand_usefuls(toestand_tree)\n",
    "\n",
    "    meta_dict['latest_toestand_url'] = details['latest_toestand_url']\n",
    "\n",
    "    wti_url       = details['wti_url']\n",
    "    if wti_url is not None:\n",
    "        meta_dict['wti_url']       = wti_url\n",
    "        wti_tree                   = wetsuite.helpers.etree.fromstring( bwb_fetched.get( wti_url ) )\n",
    "        meta_dict['wti']           = wetsuite.helpers.koop_parse.bwb_wti_usefuls(wti_tree)\n",
    "\n",
    "    manifest_url  = details['manifest_url']\n",
    "    if manifest_url is not None:\n",
    "        meta_dict['manifest_url']  = manifest_url\n",
    "        manifest_tree              = wetsuite.helpers.etree.fromstring( bwb_fetched.get( manifest_url ) )\n",
    "        meta_dict['manifest']      = wetsuite.helpers.koop_parse.bwb_manifest_usefuls(manifest_tree)\n",
    "\n",
    "        # redundant, but sometimes nice to have more accessible\n",
    "        version_dates = list()\n",
    "        for expression in manifest_tree.findall('expression'):\n",
    "            version_dates.append( expression.find('metadata/datum_inwerkingtreding').text )\n",
    "            meta_dict['version_dates'] = version_dates\n",
    "\n",
    "    bwb_latestonly_text.put( bwbr, text      )\n",
    "    bwb_latestonly_meta.put( bwbr, meta_dict )"
   ]
  }
 ],
 "metadata": {
  "kernelspec": {
   "display_name": "Python 3 (ipykernel)",
   "language": "python",
   "name": "python3"
  },
  "language_info": {
   "codemirror_mode": {
    "name": "ipython",
    "version": 3
   },
   "file_extension": ".py",
   "mimetype": "text/x-python",
   "name": "python",
   "nbconvert_exporter": "python",
   "pygments_lexer": "ipython3",
   "version": "3.8.10"
  },
  "vscode": {
   "interpreter": {
    "hash": "31f2aee4e71d21fbe5cf8b01ff0e069b9275f58929596ceb00d14d90e3e16cd6"
   }
  }
 },
 "nbformat": 4,
 "nbformat_minor": 4
}
